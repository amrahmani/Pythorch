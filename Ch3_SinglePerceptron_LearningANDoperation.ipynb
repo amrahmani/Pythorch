{
  "nbformat": 4,
  "nbformat_minor": 0,
  "metadata": {
    "colab": {
      "provenance": [],
      "authorship_tag": "ABX9TyMCOaK4ZNhjmMJc5y6VNHfO",
      "include_colab_link": true
    },
    "kernelspec": {
      "name": "python3",
      "display_name": "Python 3"
    },
    "language_info": {
      "name": "python"
    }
  },
  "cells": [
    {
      "cell_type": "markdown",
      "metadata": {
        "id": "view-in-github",
        "colab_type": "text"
      },
      "source": [
        "<a href=\"https://colab.research.google.com/github/amrahmani/NN/blob/main/SinglePerceptron_Learning.ipynb\" target=\"_parent\"><img src=\"https://colab.research.google.com/assets/colab-badge.svg\" alt=\"Open In Colab\"/></a>"
      ]
    },
    {
      "cell_type": "markdown",
      "source": [
        "create a single-neuron perceptron with a bias using PyTorch. The perceptron will utilize the sign activation function and train based on the delta rule with the formula: 𝑊_𝑛𝑒𝜔 = 𝑊_𝑜𝑙𝑑 + 𝛼(𝑦 - 𝑦_hat) 𝑋. Here, 'y' represents the desired output and 'y_hat' represents the predicted output. The goal is to train the network for the Boolean AND operation."
      ],
      "metadata": {
        "id": "7x3kDI5KdMBA"
      }
    },
    {
      "cell_type": "code",
      "execution_count": 77,
      "metadata": {
        "colab": {
          "base_uri": "https://localhost:8080/"
        },
        "id": "Y8-KL_62Q5S3",
        "outputId": "3ec25404-c556-4f01-c701-90211e937225"
      },
      "outputs": [
        {
          "output_type": "stream",
          "name": "stdout",
          "text": [
            "Trained weights:\n",
            "tensor([[0.4703],\n",
            "        [0.2621]])\n",
            "Trained bias:\n",
            "tensor([-0.6159])\n",
            "Predictions:\n",
            "tensor([[-1.],\n",
            "        [-1.],\n",
            "        [-1.],\n",
            "        [ 1.]])\n"
          ]
        }
      ],
      "source": [
        "import torch\n",
        "\n",
        "# Define input data (Boolean AND)\n",
        "X = torch.tensor([[0., 0.], [0., 1.], [1., 0.], [1., 1.]])\n",
        "y = torch.tensor([[-1.], [-1.], [-1.], [1.]])\n",
        "\n",
        "# Initialize weights and bias randomly\n",
        "W_old = torch.randn(2, 1)\n",
        "b_old = torch.randn(1)\n",
        "\n",
        "# Learning rate\n",
        "alpha = 0.1\n",
        "\n",
        "# Number of epochs\n",
        "epochs = 50\n",
        "\n",
        "# Training loop\n",
        "for epoch in range(epochs):\n",
        "    # Forward pass\n",
        "    y_hat = torch.sign(torch.matmul(X, W_old) + b_old)\n",
        "\n",
        "    # Compute loss\n",
        "    loss = torch.mean(torch.abs(y - y_hat))\n",
        "\n",
        "    # Update weights and bias\n",
        "    W_new = W_old + alpha * torch.matmul(X.t(), (y - y_hat))\n",
        "    b_new = b_old + alpha * torch.sum(y - y_hat)\n",
        "\n",
        "    # Update weights and bias for the next iteration\n",
        "    W_old.data = W_new.data\n",
        "    b_old.data = b_new.data\n",
        "\n",
        "# Test the trained model\n",
        "print(\"Trained weights:\")\n",
        "print(W_new)\n",
        "print(\"Trained bias:\")\n",
        "print(b_new)\n",
        "print(\"Predictions:\")\n",
        "print(torch.sign(torch.matmul(X, W_new) + b_new))\n"
      ]
    }
  ]
}
