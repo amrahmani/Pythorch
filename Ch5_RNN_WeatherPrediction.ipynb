{
  "nbformat": 4,
  "nbformat_minor": 0,
  "metadata": {
    "colab": {
      "provenance": [],
      "include_colab_link": true
    },
    "kernelspec": {
      "name": "python3",
      "display_name": "Python 3"
    },
    "language_info": {
      "name": "python"
    }
  },
  "cells": [
    {
      "cell_type": "markdown",
      "metadata": {
        "id": "view-in-github",
        "colab_type": "text"
      },
      "source": [
        "<a href=\"https://colab.research.google.com/github/amrahmani/Pythorch/blob/main/Ch5_RNN_WeatherPrediction.ipynb\" target=\"_parent\"><img src=\"https://colab.research.google.com/assets/colab-badge.svg\" alt=\"Open In Colab\"/></a>"
      ]
    },
    {
      "cell_type": "markdown",
      "source": [
        "**Problem: a one-day-ahead temperature prediction problem**\n",
        "\n",
        "\n",
        "Using PyTorch, create an **RNN** and write code to train the model based on this data (https://raw.githubusercontent.com/amrahmani/Pythorch/main/WeatherHistory.csv), and test it for the problem. The model has four inputs: temperature (°C), humidity, wind speed (km/h), and pressure (millibars), respectively, and one output: \"one-hour ahead temperature (°C)\"."
      ],
      "metadata": {
        "id": "P9f88aKFi46K"
      }
    },
    {
      "cell_type": "markdown",
      "source": [
        "**Import Libraries:**"
      ],
      "metadata": {
        "id": "ZhVnbzgRKcmP"
      }
    },
    {
      "cell_type": "code",
      "source": [
        "import torch\n",
        "import torch.nn as nn\n",
        "import pandas as pd\n",
        "from sklearn.preprocessing import MinMaxScaler\n",
        "from torch.utils.data import DataLoader, TensorDataset\n",
        "import numpy as np"
      ],
      "metadata": {
        "id": "LPXjZJH7BkIt"
      },
      "execution_count": null,
      "outputs": []
    },
    {
      "cell_type": "markdown",
      "source": [
        "**Load and Prepare Dataset**"
      ],
      "metadata": {
        "id": "HdrnZ4wEKMDZ"
      }
    },
    {
      "cell_type": "code",
      "execution_count": null,
      "metadata": {
        "id": "idDk0j4JAu0y"
      },
      "outputs": [],
      "source": [
        "# Load dataset\n",
        "url = 'https://raw.githubusercontent.com/amrahmani/Pythorch/main/WeatherHistory.csv'\n",
        "\n",
        "# Read the CSV file into a Pandas DataFrame (assuming no header row)\n",
        "data = pd.read_csv(url)\n",
        "\n",
        "# Assuming your dataset columns are: 'Temperature', 'Humidity', 'Wind Speed', 'Pressure', 'Six-hour ahead Temperature'\n",
        "# Separate inputs and outputs\n",
        "X = data[[\"Temperature (C)\", \"Humidity\", \"Wind Speed (km/h)\", \"Pressure (millibars)\"]].values\n",
        "y = data[['one-hour ahead Temperature (C)']].values\n",
        "\n",
        "# Normalization\n",
        "# Scale the input features and target variable to the range [0, 1]; X_norm = (X - X_min) / (X_max - X_min)\n",
        "scaler_X = MinMaxScaler()\n",
        "scaler_y = MinMaxScaler()\n",
        "X = scaler_X.fit_transform(X)\n",
        "y = scaler_y.fit_transform(y)\n",
        "\n",
        "# Convert the numpy arrays to PyTorch tensors\n",
        "X = torch.tensor(X, dtype=torch.float32)\n",
        "y = torch.tensor(y, dtype=torch.float32)\n",
        "\n",
        "# Use the last 21 to 1 rows as test data\n",
        "X_test = X[-21:-1]\n",
        "y_test = y[-21:-1]\n",
        "\n",
        "# Use the remaining data as training data\n",
        "X_train = X[:-21]\n",
        "y_train = y[:-21]\n",
        "\n",
        "# Create a DataLoader for the training data to facilitate mini-batch training\n",
        "train_data = TensorDataset(X_train, y_train)\n",
        "train_loader = DataLoader(train_data, batch_size=32, shuffle=False) # Shuffling helps reduce the impact of data order on model training and can potentially improve generalization.\n"
      ]
    },
    {
      "cell_type": "markdown",
      "source": [
        "**Define and Train the RNN**"
      ],
      "metadata": {
        "id": "NztRWEIeJ-vz"
      }
    },
    {
      "cell_type": "code",
      "source": [
        "class WeatherRNN(nn.Module):\n",
        "    def __init__(self, input_size, hidden_size, output_size, num_layers):\n",
        "        super(WeatherRNN, self).__init__()\n",
        "        self.num_layers = num_layers\n",
        "        # Define the dimension of the hidden state for each layer\n",
        "        self.hidden_size = hidden_size\n",
        "               # to recap for MLP we have self.hidden = nn.Linear(2, 5) it defines the hidden layer with 5 neurons and input size 2\n",
        "               # to recap for MLP we have self.output = nn.Linear(5, 1) it defines the output layer with 1 neuron\n",
        "        self.rnn = nn.RNN(input_size, hidden_size, num_layers, batch_first=True)\n",
        "        self.fc = nn.Linear(hidden_size, output_size) # fc = Fully connected\n",
        "\n",
        "    # By default, the nn.RNN module in PyTorch uses the hyperbolic tangent (tanh) activation function\n",
        "    def forward(self, x):\n",
        "        # Initialize hidden state with zeros, h0 represents the initial hidden state of an RNN\n",
        "        h0 = torch.zeros(self.num_layers, x.size(0), self.hidden_size)\n",
        "        # RNN forward pass\n",
        "        out, _ = self.rnn(x, h0) # It returns two tensors, and assigns the first tensor to out and discards the second one (might contain the final hidden state) using the _\n",
        "        # Decode the hidden state of the last time step\n",
        "        out = self.fc(out[:, -1, :]) #  It selects all elements from the last row (-1)\n",
        "        return out\n",
        "\n",
        "# Hyperparameters\n",
        "input_size = 4      # Number of input features\n",
        "hidden_size = 24    # Number of features in the hidden state\n",
        "output_size = 1     # Single output (next hour temperature)\n",
        "num_layers = 1      # Number of layers in the RNN\n",
        "num_epochs = 100    # Number of epochs to train\n",
        "learning_rate = 0.001  # Learning rate\n",
        "\n",
        "model = WeatherRNN(input_size, hidden_size, output_size, num_layers)\n",
        "\n",
        "# Loss and optimizer\n",
        "criterion = nn.MSELoss()\n",
        "optimizer = torch.optim.Adam(model.parameters(), learning_rate)\n",
        "\n",
        "# Training loop\n",
        "for epoch in range(num_epochs):\n",
        "    for X_batch, y_batch in train_loader:\n",
        "        # Reshape input to (number of elements in the 1st dimention, sequence_length, input_size)\n",
        "        X_batch = X_batch.view(X_batch.size(0), 1, input_size)\n",
        "\n",
        "        # Forward pass\n",
        "        outputs = model(X_batch)\n",
        "        loss = criterion(outputs, y_batch)\n",
        "\n",
        "        # Backward pass and optimization\n",
        "        # Zero the gradients to prevent accumulation\n",
        "        optimizer.zero_grad()\n",
        "        # Compute gradients of the loss w.r.t. model parameters\n",
        "        loss.backward()\n",
        "        # Update model parameters using optimizer\n",
        "        optimizer.step()\n",
        "\n",
        "    if (epoch+1) % 10 == 0:\n",
        "        print(f'Epoch [{epoch+1}/{num_epochs}], Loss: {loss.item():.4f}')\n"
      ],
      "metadata": {
        "colab": {
          "base_uri": "https://localhost:8080/"
        },
        "id": "tRy_91A8Bsih",
        "outputId": "4ce007ca-aace-43b1-a28a-7b18cb8e208f"
      },
      "execution_count": null,
      "outputs": [
        {
          "output_type": "stream",
          "name": "stdout",
          "text": [
            "Epoch [10/100], Loss: 0.0230\n",
            "Epoch [20/100], Loss: 0.0115\n",
            "Epoch [30/100], Loss: 0.0066\n",
            "Epoch [40/100], Loss: 0.0045\n",
            "Epoch [50/100], Loss: 0.0033\n",
            "Epoch [60/100], Loss: 0.0028\n",
            "Epoch [70/100], Loss: 0.0026\n",
            "Epoch [80/100], Loss: 0.0025\n",
            "Epoch [90/100], Loss: 0.0025\n",
            "Epoch [100/100], Loss: 0.0025\n"
          ]
        }
      ]
    },
    {
      "cell_type": "markdown",
      "source": [
        "**Test the RNN and Compare Predictions**"
      ],
      "metadata": {
        "id": "rXsvPZLrKAD9"
      }
    },
    {
      "cell_type": "code",
      "source": [
        "\n",
        "# When we don't need to compute gradients during the forward pass\n",
        "with torch.no_grad():\n",
        "    X_test = X_test.view(X_test.size(0), 1, input_size)\n",
        "    predictions = model(X_test)\n",
        "    actuals = y_test\n",
        "\n",
        "    # Rescale predictions and actuals back to original scale (Denormalization)\n",
        "    predictions = scaler_y.inverse_transform(predictions)\n",
        "    actuals = scaler_y.inverse_transform(actuals)\n",
        "\n",
        "    # Compare predictions and actual values\n",
        "    print('Predictions vs   Actuals         Comparison')\n",
        "    for i in range(len(predictions)):\n",
        "      print(predictions[i], '\\t', actuals[i], '\\t', predictions[i]-actuals[i])\n"
      ],
      "metadata": {
        "id": "ZIpTEia4qmir",
        "outputId": "37c07d92-950d-467f-dc5f-ebe53da42165",
        "colab": {
          "base_uri": "https://localhost:8080/"
        }
      },
      "execution_count": null,
      "outputs": [
        {
          "output_type": "stream",
          "name": "stdout",
          "text": [
            "Predictions vs   Actuals         Comparison\n",
            "[9.88473949] \t [9.46000015] \t [0.42473934]\n",
            "[9.23584244] \t [10.68000004] \t [-1.4441576]\n",
            "[10.27471362] \t [8.93999999] \t [1.33471364]\n",
            "[8.27363962] \t [8.93999999] \t [-0.66636037]\n",
            "[8.66692865] \t [12.49999986] \t [-3.83307121]\n",
            "[11.93449353] \t [16.03000026] \t [-4.09550674]\n",
            "[15.27250476] \t [19.86000005] \t [-4.58749529]\n",
            "[18.80380349] \t [21.87999945] \t [-3.07619596]\n",
            "[20.91589239] \t [22.80000035] \t [-1.88410796]\n",
            "[21.69212646] \t [23.96000013] \t [-2.26787367]\n",
            "[22.738135] \t [24.92000032] \t [-2.18186532]\n",
            "[23.67067069] \t [24.96999983] \t [-1.29932914]\n",
            "[23.73514203] \t [25.03999976] \t [-1.30485774]\n",
            "[23.85297008] \t [24.82999996] \t [-0.97702989]\n",
            "[23.90418488] \t [22.22000046] \t [1.68418442]\n",
            "[21.58680838] \t [18.86999999] \t [2.71680838]\n",
            "[18.33354984] \t [17.13999976] \t [1.19355008]\n",
            "[16.77170698] \t [14.9300002] \t [1.84170678]\n",
            "[14.46593402] \t [15.41999974] \t [-0.95406572]\n",
            "[15.22364837] \t [14.17999981] \t [1.04364856]\n"
          ]
        }
      ]
    }
  ]
}