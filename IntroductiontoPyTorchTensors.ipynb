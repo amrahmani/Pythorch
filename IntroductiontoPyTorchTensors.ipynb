{
  "nbformat": 4,
  "nbformat_minor": 0,
  "metadata": {
    "colab": {
      "provenance": [],
      "authorship_tag": "ABX9TyMcK0TMj5IXF4qTAooqlRIm",
      "include_colab_link": true
    },
    "kernelspec": {
      "name": "python3",
      "display_name": "Python 3"
    },
    "language_info": {
      "name": "python"
    }
  },
  "cells": [
    {
      "cell_type": "markdown",
      "metadata": {
        "id": "view-in-github",
        "colab_type": "text"
      },
      "source": [
        "<a href=\"https://colab.research.google.com/github/amrahmani/Pythorch/blob/main/IntroductiontoPyTorchTensors.ipynb\" target=\"_parent\"><img src=\"https://colab.research.google.com/assets/colab-badge.svg\" alt=\"Open In Colab\"/></a>"
      ]
    },
    {
      "cell_type": "markdown",
      "source": [
        "**Introduction to PyTorch Tensors**"
      ],
      "metadata": {
        "id": "Fi4ZDwJwL1Z8"
      }
    },
    {
      "cell_type": "code",
      "execution_count": 2,
      "metadata": {
        "colab": {
          "base_uri": "https://localhost:8080/"
        },
        "id": "n0tBqX05L0qa",
        "outputId": "f120105f-fc44-4606-9705-a1ba12ae237b"
      },
      "outputs": [
        {
          "output_type": "stream",
          "name": "stdout",
          "text": [
            "tensor([1, 2, 3, 4, 5])\n",
            "torch.int64\n",
            "torch.Size([5])\n",
            "tensor(3)\n",
            "tensor([2, 3, 4])\n"
          ]
        }
      ],
      "source": [
        "# Import PyTorch library\n",
        "import torch\n",
        "\n",
        "# Create a tensor from a list of numbers\n",
        "numbers = [1, 2, 3, 4, 5]\n",
        "tensor = torch.tensor(numbers)\n",
        "\n",
        "# Print the tensor information\n",
        "print(tensor)  # Prints the data and tensor type (e.g., torch.tensor([1, 2, 3, 4, 5]))\n",
        "print(tensor.dtype)  # Prints the data type (e.g., torch.float32)\n",
        "print(tensor.shape)  # Prints the tensor shape (e.g., torch.Size([5]))\n",
        "\n",
        "# Accessing elements\n",
        "print(tensor[2])  # Access element at index 2 (3)\n",
        "\n",
        "# Slicing a tensor\n",
        "sliced_tensor = tensor[1:4]  # Get elements from index 1 to 3 (excluding 4)\n",
        "print(sliced_tensor)\n"
      ]
    },
    {
      "cell_type": "markdown",
      "source": [
        "**Basic Tensor Operations**"
      ],
      "metadata": {
        "id": "CizTAlcSMi5D"
      }
    },
    {
      "cell_type": "code",
      "source": [
        "# Create two tensors\n",
        "a = torch.tensor([1, 2, 3])\n",
        "b = torch.tensor([4, 5, 6])\n",
        "\n",
        "# Addition (element-wise)\n",
        "c = a + b\n",
        "print(c)\n",
        "\n",
        "# Multiplication (element-wise)\n",
        "d = a * b\n",
        "print(d)\n",
        "\n",
        "# In-place operations (modify the original tensor)\n",
        "a.add_(5)  # Add 5 to each element of a\n",
        "print(a)\n",
        "\n",
        "# Mathematical functions (applied element-wise)\n",
        "print(torch.sin(a))  # Sine of each element in a\n",
        "\n",
        "# Dot product\n",
        "dot_product = torch.dot(a, b)\n",
        "print(dot_product)\n"
      ],
      "metadata": {
        "colab": {
          "base_uri": "https://localhost:8080/"
        },
        "id": "PvA0ViVaMmNM",
        "outputId": "6666903f-bc93-49bd-a092-846b4e919e50"
      },
      "execution_count": 3,
      "outputs": [
        {
          "output_type": "stream",
          "name": "stdout",
          "text": [
            "tensor([5, 7, 9])\n",
            "tensor([ 4, 10, 18])\n",
            "tensor([6, 7, 8])\n",
            "tensor([-0.2794,  0.6570,  0.9894])\n",
            "tensor(107)\n"
          ]
        }
      ]
    },
    {
      "cell_type": "markdown",
      "source": [
        "Converting between Tensors and NumPy arrays"
      ],
      "metadata": {
        "id": "TuN7aImKMstg"
      }
    },
    {
      "cell_type": "code",
      "source": [
        "# Create a NumPy array\n",
        "import numpy as np\n",
        "numpy_array = np.array([7, 8, 9])\n",
        "\n",
        "# Convert NumPy array to PyTorch tensor\n",
        "tensor_from_numpy = torch.from_numpy(numpy_array)\n",
        "print(tensor_from_numpy)\n",
        "\n",
        "# Convert PyTorch tensor to NumPy array\n",
        "numpy_from_tensor = tensor_from_numpy.numpy()\n",
        "print(numpy_from_tensor)\n"
      ],
      "metadata": {
        "colab": {
          "base_uri": "https://localhost:8080/"
        },
        "id": "sK6ScjD6Mv3Y",
        "outputId": "3544c5a3-9ac1-4683-9e16-5925b5fd6da5"
      },
      "execution_count": 4,
      "outputs": [
        {
          "output_type": "stream",
          "name": "stdout",
          "text": [
            "tensor([7, 8, 9])\n",
            "[7 8 9]\n"
          ]
        }
      ]
    },
    {
      "cell_type": "markdown",
      "source": [
        "Using NumPy operations with Tensors"
      ],
      "metadata": {
        "id": "P9YcZSqVM1u4"
      }
    },
    {
      "cell_type": "code",
      "source": [
        "# Create a tensor\n",
        "tensor = torch.tensor([10, 11, 12])\n",
        "\n",
        "# Use NumPy functions with the tensor (works because tensors are NumPy-like)\n",
        "print(np.sqrt(tensor))  # Square root of each element\n",
        "print(np.exp(tensor))  # Exponential of each element\n"
      ],
      "metadata": {
        "colab": {
          "base_uri": "https://localhost:8080/"
        },
        "id": "kKO4C6xFM4Gw",
        "outputId": "49055077-f778-4a81-b39f-c7978717176e"
      },
      "execution_count": 5,
      "outputs": [
        {
          "output_type": "stream",
          "name": "stdout",
          "text": [
            "tensor([3.1623, 3.3166, 3.4641], dtype=torch.float64)\n",
            "tensor([ 22026.4658,  59874.1417, 162754.7914], dtype=torch.float64)\n"
          ]
        }
      ]
    },
    {
      "cell_type": "code",
      "source": [
        "Checking GPU availability"
      ],
      "metadata": {
        "id": "4K6jua3UM9Ns"
      },
      "execution_count": null,
      "outputs": []
    },
    {
      "cell_type": "code",
      "source": [
        "# Check if GPU is available\n",
        "if torch.cuda.is_available():\n",
        "    print(\"GPU is available!\")\n",
        "else:\n",
        "    print(\"GPU is not available.\")\n",
        "\n",
        "# Move tensors to GPU (if available)\n",
        "if torch.cuda.is_available():\n",
        "    tensor = tensor.cuda()\n"
      ],
      "metadata": {
        "colab": {
          "base_uri": "https://localhost:8080/"
        },
        "id": "JMl25uonM-WE",
        "outputId": "0698301c-0359-46b5-aab5-7e132f6ca84b"
      },
      "execution_count": 6,
      "outputs": [
        {
          "output_type": "stream",
          "name": "stdout",
          "text": [
            "GPU is not available.\n"
          ]
        }
      ]
    }
  ]
}