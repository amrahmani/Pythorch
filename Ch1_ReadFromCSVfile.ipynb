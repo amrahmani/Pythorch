{
  "nbformat": 4,
  "nbformat_minor": 0,
  "metadata": {
    "colab": {
      "provenance": [],
      "authorship_tag": "ABX9TyOvbi2pXSninEK8RtFDyIB6",
      "include_colab_link": true
    },
    "kernelspec": {
      "name": "python3",
      "display_name": "Python 3"
    },
    "language_info": {
      "name": "python"
    }
  },
  "cells": [
    {
      "cell_type": "markdown",
      "metadata": {
        "id": "view-in-github",
        "colab_type": "text"
      },
      "source": [
        "<a href=\"https://colab.research.google.com/github/amrahmani/Pythorch/blob/main/ReadFromCSVfile.ipynb\" target=\"_parent\"><img src=\"https://colab.research.google.com/assets/colab-badge.svg\" alt=\"Open In Colab\"/></a>"
      ]
    },
    {
      "cell_type": "code",
      "execution_count": 20,
      "metadata": {
        "colab": {
          "base_uri": "https://localhost:8080/"
        },
        "id": "A-vd1TSiQ8B8",
        "outputId": "40f34891-293f-412c-d9f3-2ab1ac324282"
      },
      "outputs": [
        {
          "output_type": "stream",
          "name": "stdout",
          "text": [
            "          Date Temperature  Humidity  Wind Speed\n",
            "0         Date  Temprature  Humidity  Wind Speed\n",
            "1    1/01/2024          14       NaN          13\n",
            "2    2/01/2024          14        95          13\n",
            "3    3/01/2024          12        95          12\n",
            "4    4/01/2024          13        95          13\n",
            "5    5/01/2024          14       NaN          16\n",
            "6    6/01/2024          14        95          17\n",
            "7    7/01/2024          17        95          18\n",
            "8    8/01/2024          13        85          19\n",
            "9    9/01/2024          15        95          14\n",
            "10  10/01/2024          13        60          12\n",
            "11  11/01/2024          14        65          13\n",
            "12  12/01/2024          13        70          14\n",
            "13  13/01/2024          13        75          14\n",
            "14  14/01/2024          12        80          17\n",
            "15  15/01/2024          13        85          13\n",
            "16  16/01/2024          16        90          15\n",
            "17  17/01/2024          17        50          13\n",
            "18  18/01/2024          18        45          22\n",
            "19  19/01/2024          19        90          11\n",
            "20  20/01/2024          20        60          14\n",
            "21  21/01/2024          21        60          13\n",
            "22  22/01/2024          22        60          16\n",
            "23  23/01/2024          11        70          17\n",
            "24  24/01/2024          14        60          18\n",
            "25  25/01/2024          13        60          19\n",
            "26  26/01/2024          13        60          13\n",
            "27  27/01/2024          12        90          15\n",
            "28  28/01/2024          13        90          13\n",
            "29  29/01/2024          16        90          10\n"
          ]
        }
      ],
      "source": [
        "import numpy as np\n",
        "import pandas as pd\n",
        "import matplotlib.pyplot as plt\n",
        "\n",
        "# Replace 'your_correct_url.csv' with the actual URL of your CSV file\n",
        "url = 'https://raw.githubusercontent.com/amrahmani/Pythorch/main/TempDataset.csv'\n",
        "\n",
        "# Read the CSV file into a Pandas DataFrame (assuming no header row)\n",
        "data = pd.read_csv(url, header=None, names=[\"Date\", \"Temperature\", \"Humidity\", \"Wind Speed\"])  # Adjust header row if needed\n",
        "print(data)\n"
      ]
    }
  ]
}
