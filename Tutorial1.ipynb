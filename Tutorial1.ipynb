{
  "nbformat": 4,
  "nbformat_minor": 0,
  "metadata": {
    "colab": {
      "provenance": [],
      "authorship_tag": "ABX9TyP85NU3G6tgXqb9J/EOvEKF",
      "include_colab_link": true
    },
    "kernelspec": {
      "name": "python3",
      "display_name": "Python 3"
    },
    "language_info": {
      "name": "python"
    }
  },
  "cells": [
    {
      "cell_type": "markdown",
      "metadata": {
        "id": "view-in-github",
        "colab_type": "text"
      },
      "source": [
        "<a href=\"https://colab.research.google.com/github/amrahmani/Pythorch/blob/main/Tutorial1.ipynb\" target=\"_parent\"><img src=\"https://colab.research.google.com/assets/colab-badge.svg\" alt=\"Open In Colab\"/></a>"
      ]
    },
    {
      "cell_type": "markdown",
      "source": [
        "Problem: Weather Prediction Exploration (NumPy, Pandas, Matplotlib)\n",
        "**bold text**\n",
        "\n",
        "Description:\n",
        "*italicized text*\n",
        "\n",
        "You're a data analysis studying historical weather data for a city. While weather prediction requires complex models, this tutorial focuses on exploring and visualizing historical data using Python libraries. You have a CSV file containing historical daily weather data for one month.\n",
        "\n",
        "Learning Objectives:\n",
        "\n",
        "Load and manipulate data using Pandas.\n",
        "Calculate descriptive statistics and analyze trends.\n",
        "Create informative visualizations with Matplotlib.\n",
        "Data (https://raw.githubusercontent.com/amrahmani/Pythorch/main/TempDataset.csv):\n",
        "\n",
        "Columns: Date (string), Temperature (numeric, °C), Humidity (numeric, %), Wind Speed (numeric, m/s)"
      ],
      "metadata": {
        "id": "rhIvH0qwgxLM"
      }
    }
  ]
}