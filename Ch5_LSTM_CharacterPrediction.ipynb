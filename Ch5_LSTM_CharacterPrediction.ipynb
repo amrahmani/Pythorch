{
  "nbformat": 4,
  "nbformat_minor": 0,
  "metadata": {
    "colab": {
      "provenance": [],
      "gpuType": "T4",
      "include_colab_link": true
    },
    "kernelspec": {
      "name": "python3",
      "display_name": "Python 3"
    },
    "language_info": {
      "name": "python"
    },
    "accelerator": "GPU"
  },
  "cells": [
    {
      "cell_type": "markdown",
      "metadata": {
        "id": "view-in-github",
        "colab_type": "text"
      },
      "source": [
        "<a href=\"https://colab.research.google.com/github/amrahmani/Pythorch/blob/main/Ch5_LSTM_CharacterPrediction.ipynb\" target=\"_parent\"><img src=\"https://colab.research.google.com/assets/colab-badge.svg\" alt=\"Open In Colab\"/></a>"
      ]
    },
    {
      "cell_type": "markdown",
      "source": [
        "**Problem: Next character prediction**\n",
        "\n",
        "Using PyTorch, create an LSTM and write code to train the model based on this data (https://raw.githubusercontent.com/amrahmani/Pythorch/main/WordsDataset.txt), and test it for the problem."
      ],
      "metadata": {
        "id": "dqBKnm-G-x-f"
      }
    },
    {
      "cell_type": "markdown",
      "source": [
        "**Import Libraries**"
      ],
      "metadata": {
        "id": "UnlEekVQoKSG"
      }
    },
    {
      "cell_type": "code",
      "source": [
        "import torch\n",
        "import torch.nn as nn\n",
        "import torch.optim as optim\n",
        "import requests"
      ],
      "metadata": {
        "id": "rvfmQ2T3oPcI"
      },
      "execution_count": 1,
      "outputs": []
    },
    {
      "cell_type": "markdown",
      "source": [
        "**Load and Prepare Dataset**"
      ],
      "metadata": {
        "id": "0-h2mmbqoS1V"
      }
    },
    {
      "cell_type": "code",
      "source": [
        "# URL of the dataset\n",
        "url = 'https://raw.githubusercontent.com/amrahmani/Pythorch/main/WordsDataset.txt'\n",
        "\n",
        "# Download data from the URL\n",
        "response = requests.get(url)\n",
        "text = response.text.replace('\\n', ' ')\n",
        "\n",
        "# Character mapping: create a mapping from characters to indices and vice versa\n",
        "# Also, converting the characters into a numerical format\n",
        "chars = sorted(list(set(text))) # Only characters in dataset\n",
        "char_to_idx = {ch: i for i, ch in enumerate(chars)} # Will be used for training\n",
        "idx_to_char = {i: ch for i, ch in enumerate(chars)} # Will be used for testing\n",
        "\n",
        "# Hyperparameters 1\n",
        "seq_length = 30  # Length of the input sequences\n",
        "\n",
        "# Function to prepare the dataset\n",
        "def create_dataset(text, seq_length):\n",
        "    X = []  # Input sequences\n",
        "    Y = []  # Target characters (the next character after each input sequence)\n",
        "    for i in range(0, len(text) - seq_length):                      # for example: text = 'Hello World!', seq_length = 7\n",
        "        X.append([char_to_idx[ch] for ch in text[i:i+seq_length]])  # for example: X[0] = 'Hello W' Y[0] = 'o', X[1] = 'ello Wo' Y[1] = 'r' ...\n",
        "        Y.append(char_to_idx[text[i+seq_length]])\n",
        "    return torch.tensor(X, dtype=torch.long), torch.tensor(Y, dtype=torch.long)\n",
        "\n",
        "# Create the dataset\n",
        "X, Y = create_dataset(text, seq_length)\n",
        "print('X=',X)\n",
        "print('Y=',Y)"
      ],
      "metadata": {
        "id": "1_vlpwUmoYG8",
        "outputId": "8ef87f47-053c-4936-af6a-9d76f501ebfe",
        "colab": {
          "base_uri": "https://localhost:8080/"
        }
      },
      "execution_count": 2,
      "outputs": [
        {
          "output_type": "stream",
          "name": "stdout",
          "text": [
            "X= tensor([[21, 30, 27,  ..., 39,  1, 27],\n",
            "        [30, 27,  1,  ...,  1, 27, 35],\n",
            "        [27,  1, 27,  ..., 27, 35, 23],\n",
            "        ...,\n",
            "        [31, 35, 40,  ..., 18, 36, 21],\n",
            "        [35, 40, 27,  ..., 36, 21,  6],\n",
            "        [40, 27, 38,  ..., 21,  6,  0]])\n",
            "Y= tensor([35, 23, 24,  ...,  6,  0,  1])\n"
          ]
        }
      ]
    },
    {
      "cell_type": "markdown",
      "source": [
        "**Define and Train the LSTM**"
      ],
      "metadata": {
        "id": "iYcKA3svob58"
      }
    },
    {
      "cell_type": "code",
      "execution_count": 3,
      "metadata": {
        "colab": {
          "base_uri": "https://localhost:8080/"
        },
        "id": "v128MBGO-UMT",
        "outputId": "8965ed84-4a09-419c-afe2-8bed59d44ccf"
      },
      "outputs": [
        {
          "output_type": "stream",
          "name": "stdout",
          "text": [
            "Epoch [10/50], Loss: 1.1802\n",
            "Epoch [20/50], Loss: 0.0482\n",
            "Epoch [30/50], Loss: 0.0025\n",
            "Epoch [40/50], Loss: 0.0041\n",
            "Epoch [50/50], Loss: 0.0000\n"
          ]
        }
      ],
      "source": [
        "# Hyperparameters 2\n",
        "input_size = len(chars)  # Number of charaters in dataset. Size of the one-hot encoded vectors\n",
        "# output_size = input_size  # one-hot encoded vectors: 'small' would be encoded as [1, 0, 0], 'medium' as [0, 1, 0], and 'large' as [0, 0, 1], 3 inputs => 3 outputs\n",
        "hidden_size = 64  # Number of features in the hidden state\n",
        "num_layers = 1  # Number of recurrent layers in the LSTM\n",
        "num_epochs = 50  # Number of training epochs\n",
        "learning_rate = 0.001  # Learning rate for the optimizer\n",
        "\n",
        "# Define the LSTM Model\n",
        "class LSTMModel(nn.Module):\n",
        "    def __init__(self, input_size, hidden_size, num_layers):\n",
        "        super(LSTMModel, self).__init__()\n",
        "        self.hidden_size = hidden_size\n",
        "        self.num_layers = num_layers\n",
        "        # LSTM layer\n",
        "        self.lstm = nn.LSTM(input_size, hidden_size, num_layers, batch_first=True)\n",
        "        # Fully connected layer to map LSTM output to character space\n",
        "        self.fc = nn.Linear(hidden_size, input_size) # output_size = input_size  # one-hot encoded vectors\n",
        "\n",
        "    def forward(self, x):\n",
        "        # Initialize hidden state and cell state\n",
        "        h0 = torch.zeros(self.num_layers, x.size(0), self.hidden_size)\n",
        "        c0 = torch.zeros(self.num_layers, x.size(0), self.hidden_size)\n",
        "        # LSTM forward pass\n",
        "        out, _ = self.lstm(x, (h0, c0)) # It returns two tensors, and assigns the first tensor to out and discards the second one (might contain the final hidden state) using the _\n",
        "        # Fully connected layer output\n",
        "        out = self.fc(out[:, -1, :]) #  It selects all elements of the 1st dimension (:), the last element (-1) of the 2nd dimension, and all elements of the 3rd dimension (:)\n",
        "        return out\n",
        "\n",
        "# Instantiate the model\n",
        "model = LSTMModel(input_size, hidden_size, num_layers)\n",
        "\n",
        "# Define the loss function and the optimizer\n",
        "criterion = nn.CrossEntropyLoss()\n",
        "optimizer = optim.Adam(model.parameters(), lr=learning_rate)\n",
        "\n",
        "# Training the model\n",
        "for epoch in range(num_epochs):\n",
        "    for i in range(len(X)):\n",
        "        # Convert input sequence to one-hot encoding\n",
        "        inputs = torch.eye(input_size)[X[i]] # one-hot encoding: It creates an identity matrix and then select a specific row from it based on the values in the tensor X\n",
        "        targets = Y[i]\n",
        "\n",
        "        # Forward pass\n",
        "        outputs = model(inputs.view(1, seq_length, -1))  # view is used to match input shape\n",
        "        loss = criterion(outputs, targets.view(1))  # view(1) add an extra dimension of size 1 at the beginning of the tensor's shape.\n",
        "\n",
        "        # Backward and optimize\n",
        "        # Zero the gradients to prevent accumulation\n",
        "        optimizer.zero_grad()\n",
        "        # Compute gradients of the loss w.r.t. model parameters\n",
        "        loss.backward()\n",
        "       # Update model parameters using optimizer\n",
        "        optimizer.step()\n",
        "\n",
        "    # Print loss every 10 epochs\n",
        "    if (epoch+1) % 10 == 0:\n",
        "        print(f'Epoch [{epoch+1}/{num_epochs}], Loss: {loss.item():.4f}')"
      ]
    },
    {
      "cell_type": "markdown",
      "source": [
        "**Test the LSTM**"
      ],
      "metadata": {
        "id": "cgISyswLpEtd"
      }
    },
    {
      "cell_type": "code",
      "source": [
        "# Function to generate text using the trained model\n",
        "def generate_text(model, start_text, length):\n",
        "    # Convert start_text to a tensor of indices\n",
        "    input_seq = torch.tensor([char_to_idx[ch] for ch in start_text], dtype=torch.long).view(1, -1)\n",
        "    result = start_text\n",
        "    with torch.no_grad():  # Disable gradient calculation\n",
        "        for _ in range(length):\n",
        "            # Convert input_seq to one-hot encoding\n",
        "            input_seq_onehot = torch.eye(input_size)[input_seq]\n",
        "            # Forward pass\n",
        "            output = model(input_seq_onehot)\n",
        "            # Get the predicted character\n",
        "            _, predicted = torch.max(output, 1)\n",
        "            next_char = idx_to_char[predicted.item()]\n",
        "            # Append the predicted character to the result\n",
        "            result += next_char\n",
        "            # Update input_seq to include the predicted character\n",
        "            input_seq = torch.cat((input_seq[:, 1:], predicted.view(1, 1)), dim=1)\n",
        "    return result\n",
        "\n",
        "# Generate text\n",
        "start_text = \"of machine l\"\n",
        "generated_text = generate_text(model, start_text, 10)\n",
        "print(\"Generated text:\", generated_text)"
      ],
      "metadata": {
        "colab": {
          "base_uri": "https://localhost:8080/"
        },
        "id": "lTcqmjXiJDwK",
        "outputId": "e5e7d848-102f-4787-b216-0dcf912aae44"
      },
      "execution_count": 6,
      "outputs": [
        {
          "output_type": "stream",
          "name": "stdout",
          "text": [
            "Generated text: of machine learning (D\n"
          ]
        }
      ]
    }
  ]
}