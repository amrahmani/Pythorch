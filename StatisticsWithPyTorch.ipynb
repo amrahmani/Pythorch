{
  "nbformat": 4,
  "nbformat_minor": 0,
  "metadata": {
    "colab": {
      "provenance": [],
      "authorship_tag": "ABX9TyOJan+zUw5/TClreYVaQ9Ao",
      "include_colab_link": true
    },
    "kernelspec": {
      "name": "python3",
      "display_name": "Python 3"
    },
    "language_info": {
      "name": "python"
    }
  },
  "cells": [
    {
      "cell_type": "markdown",
      "metadata": {
        "id": "view-in-github",
        "colab_type": "text"
      },
      "source": [
        "<a href=\"https://colab.research.google.com/github/amrahmani/Pythorch/blob/main/StatisticsWithPyTorch.ipynb\" target=\"_parent\"><img src=\"https://colab.research.google.com/assets/colab-badge.svg\" alt=\"Open In Colab\"/></a>"
      ]
    },
    {
      "cell_type": "markdown",
      "source": [
        "**Statistics and Probability with PyTorch**\n",
        "\n",
        "---\n",
        "\n",
        "Calculating Descriptive Statistics"
      ],
      "metadata": {
        "id": "FpgnXoZ3Ol03"
      }
    },
    {
      "cell_type": "code",
      "execution_count": 15,
      "metadata": {
        "colab": {
          "base_uri": "https://localhost:8080/"
        },
        "id": "bP6Uo3UfOf8Q",
        "outputId": "6ac6d7b9-64ac-47ae-f111-9cd3433b799a"
      },
      "outputs": [
        {
          "output_type": "stream",
          "name": "stdout",
          "text": [
            "Mean: 21.0\n",
            "Median: 20.0\n",
            "Standard Deviation: 6.51920223236084\n"
          ]
        }
      ],
      "source": [
        "import torch\n",
        "\n",
        "# Sample data\n",
        "data = torch.tensor([15.0, 15.0, 20.0, 25.0, 30.0])\n",
        "\n",
        "# Mean (average)\n",
        "mean_value = torch.mean(data)\n",
        "print(f\"Mean: {mean_value}\")\n",
        "\n",
        "# Median (middle value)\n",
        "sorted_data = torch.sort(data).values  # Sort the data\n",
        "median_index = len(data) // 2  # Find the middle index\n",
        "if len(data) % 2 == 0:  # Handle even-sized data\n",
        "    median_value = (sorted_data[median_index - 1] + sorted_data[median_index]) / 2\n",
        "else:\n",
        "    median_value = sorted_data[median_index]\n",
        "print(f\"Median: {median_value}\")\n",
        "\n",
        "\n",
        "# Standard deviation\n",
        "std_dev = torch.std(data)\n",
        "print(f\"Standard Deviation: {std_dev}\")"
      ]
    }
  ]
}