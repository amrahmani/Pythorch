{
  "nbformat": 4,
  "nbformat_minor": 0,
  "metadata": {
    "colab": {
      "provenance": [],
      "gpuType": "T4",
      "authorship_tag": "ABX9TyNyPy6pFfFaK9syOv+GBdMV",
      "include_colab_link": true
    },
    "kernelspec": {
      "name": "python3",
      "display_name": "Python 3"
    },
    "language_info": {
      "name": "python"
    },
    "accelerator": "GPU"
  },
  "cells": [
    {
      "cell_type": "markdown",
      "metadata": {
        "id": "view-in-github",
        "colab_type": "text"
      },
      "source": [
        "<a href=\"https://colab.research.google.com/github/amrahmani/Pythorch/blob/main/IntroNumPy_MatPlotLib_Pandas.ipynb\" target=\"_parent\"><img src=\"https://colab.research.google.com/assets/colab-badge.svg\" alt=\"Open In Colab\"/></a>"
      ]
    },
    {
      "cell_type": "markdown",
      "source": [
        "Basic Python Programming"
      ],
      "metadata": {
        "id": "ywcN99uUES39"
      }
    },
    {
      "cell_type": "code",
      "source": [
        "# Print a message\n",
        "print(\"Hello, World!\")\n",
        "\n",
        "# Define variables with different data types\n",
        "name = \"Alice\"\n",
        "age = 30\n",
        "pi = 3.14159\n",
        "\n",
        "# Perform calculations\n",
        "total = age * 365\n",
        "print(f\"{name} has lived for approximately {total} days.\")\n",
        "\n",
        "# Use conditional statements\n",
        "if age >= 18:\n",
        "    print(f\"{name} is an adult.\")\n",
        "else:\n",
        "    print(f\"{name} is a minor.\")\n",
        "\n",
        "# Loop through a list\n",
        "fruits = [\"apple\", \"banana\", \"orange\"]\n",
        "for fruit in fruits:\n",
        "    print(f\"I like to eat {fruit}.\")\n"
      ],
      "metadata": {
        "id": "873KiQGNEW4G",
        "outputId": "b4161bc0-08eb-4de8-a9fc-f8c5c520fea8",
        "colab": {
          "base_uri": "https://localhost:8080/"
        }
      },
      "execution_count": 1,
      "outputs": [
        {
          "output_type": "stream",
          "name": "stdout",
          "text": [
            "Hello, World!\n",
            "Alice has lived for approximately 10950 days.\n",
            "Alice is an adult.\n",
            "I like to eat apple.\n",
            "I like to eat banana.\n",
            "I like to eat orange.\n"
          ]
        }
      ]
    }
  ]
}