{
  "nbformat": 4,
  "nbformat_minor": 0,
  "metadata": {
    "colab": {
      "provenance": [],
      "gpuType": "T4",
      "authorship_tag": "ABX9TyP+0HohRn9t4Qb/KX4YQ7pe",
      "include_colab_link": true
    },
    "kernelspec": {
      "name": "python3",
      "display_name": "Python 3"
    },
    "language_info": {
      "name": "python"
    },
    "accelerator": "GPU"
  },
  "cells": [
    {
      "cell_type": "markdown",
      "metadata": {
        "id": "view-in-github",
        "colab_type": "text"
      },
      "source": [
        "<a href=\"https://colab.research.google.com/github/amrahmani/Pythorch/blob/main/IntroNumPy_MatPlotLib_Pandas.ipynb\" target=\"_parent\"><img src=\"https://colab.research.google.com/assets/colab-badge.svg\" alt=\"Open In Colab\"/></a>"
      ]
    },
    {
      "cell_type": "markdown",
      "source": [
        "**Basic Python Programming**"
      ],
      "metadata": {
        "id": "ywcN99uUES39"
      }
    },
    {
      "cell_type": "code",
      "source": [
        "# Print a message\n",
        "print(\"Hello, World!\")\n",
        "\n",
        "# Define variables with different data types\n",
        "name = \"Alice\"\n",
        "age = 30\n",
        "pi = 3.14159\n",
        "\n",
        "# Perform calculations\n",
        "total = age * 365\n",
        "print(f\"{name} has lived for approximately {total} days.\")\n",
        "\n",
        "# Use conditional statements\n",
        "if age >= 18:\n",
        "    print(f\"{name} is an adult.\")\n",
        "else:\n",
        "    print(f\"{name} is a minor.\")\n",
        "\n",
        "# Loop through a list\n",
        "fruits = [\"apple\", \"banana\", \"orange\"]\n",
        "for fruit in fruits:\n",
        "    print(f\"I like to eat {fruit}.\")\n"
      ],
      "metadata": {
        "colab": {
          "base_uri": "https://localhost:8080/"
        },
        "id": "873KiQGNEW4G",
        "outputId": "b4161bc0-08eb-4de8-a9fc-f8c5c520fea8"
      },
      "execution_count": 1,
      "outputs": [
        {
          "output_type": "stream",
          "name": "stdout",
          "text": [
            "Hello, World!\n",
            "Alice has lived for approximately 10950 days.\n",
            "Alice is an adult.\n",
            "I like to eat apple.\n",
            "I like to eat banana.\n",
            "I like to eat orange.\n"
          ]
        }
      ]
    },
    {
      "cell_type": "markdown",
      "source": [
        "**Introduction to NumPy**"
      ],
      "metadata": {
        "id": "yomgIs9SEsH0"
      }
    },
    {
      "cell_type": "code",
      "source": [
        "# Import NumPy library\n",
        "import numpy as np\n",
        "\n",
        "# Create a NumPy array\n",
        "numbers = np.array([1, 2, 3, 4, 5])\n",
        "\n",
        "# Access elements in the array\n",
        "print(numbers[0])  # Print the first element\n",
        "print(numbers[1:3])  # Print elements from index 1 to 2 (excluding 3)\n",
        "\n",
        "# Perform operations on arrays\n",
        "doubled_numbers = numbers * 2\n",
        "print(doubled_numbers)\n",
        "\n",
        "# Array mathematical operations\n",
        "print(np.sum(numbers))  # Calculate sum\n",
        "print(np.mean(numbers))  # Calculate mean\n"
      ],
      "metadata": {
        "id": "SatbY9BwEuRk",
        "outputId": "b643b161-cc4f-4897-c9ce-b012e26f86c9",
        "colab": {
          "base_uri": "https://localhost:8080/"
        }
      },
      "execution_count": 2,
      "outputs": [
        {
          "output_type": "stream",
          "name": "stdout",
          "text": [
            "1\n",
            "[2 3]\n",
            "[ 2  4  6  8 10]\n",
            "15\n",
            "3.0\n"
          ]
        }
      ]
    }
  ]
}