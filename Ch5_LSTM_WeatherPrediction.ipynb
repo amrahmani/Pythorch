{
  "nbformat": 4,
  "nbformat_minor": 0,
  "metadata": {
    "colab": {
      "provenance": [],
      "gpuType": "T4",
      "include_colab_link": true
    },
    "kernelspec": {
      "name": "python3",
      "display_name": "Python 3"
    },
    "language_info": {
      "name": "python"
    },
    "accelerator": "GPU"
  },
  "cells": [
    {
      "cell_type": "markdown",
      "metadata": {
        "id": "view-in-github",
        "colab_type": "text"
      },
      "source": [
        "<a href=\"https://colab.research.google.com/github/amrahmani/NN/blob/main/Ch5_LSTM_WeatherPrediction.ipynb\" target=\"_parent\"><img src=\"https://colab.research.google.com/assets/colab-badge.svg\" alt=\"Open In Colab\"/></a>"
      ]
    },
    {
      "cell_type": "markdown",
      "source": [
        "**Problem: A one-day-ahead temperature prediction problem**\n",
        "\n",
        "\n",
        "Using PyTorch, create an **LSTM** and write code to train the model based on this data (https://raw.githubusercontent.com/amrahmani/Pythorch/main/WeatherHistory.csv), and test it for the problem. The model has four inputs: temperature (°C), humidity, wind speed (km/h), and pressure (millibars), respectively, and one output: \"one-hour ahead temperature (°C)\"."
      ],
      "metadata": {
        "id": "P9f88aKFi46K"
      }
    },
    {
      "cell_type": "markdown",
      "source": [
        "**Import Libraries:**"
      ],
      "metadata": {
        "id": "ZhVnbzgRKcmP"
      }
    },
    {
      "cell_type": "code",
      "source": [
        "import torch\n",
        "import torch.nn as nn\n",
        "import pandas as pd\n",
        "from sklearn.preprocessing import MinMaxScaler\n",
        "from torch.utils.data import DataLoader, TensorDataset\n",
        "import numpy as np"
      ],
      "metadata": {
        "id": "LPXjZJH7BkIt"
      },
      "execution_count": 2,
      "outputs": []
    },
    {
      "cell_type": "markdown",
      "source": [
        "**Load and Prepare Dataset**"
      ],
      "metadata": {
        "id": "HdrnZ4wEKMDZ"
      }
    },
    {
      "cell_type": "code",
      "execution_count": 3,
      "metadata": {
        "id": "idDk0j4JAu0y"
      },
      "outputs": [],
      "source": [
        "# Load dataset\n",
        "url = 'https://raw.githubusercontent.com/amrahmani/Pythorch/main/WeatherHistory.csv'\n",
        "\n",
        "# Read the CSV file into a Pandas DataFrame (assuming no header row)\n",
        "data = pd.read_csv(url)\n",
        "\n",
        "# Assuming your dataset columns are: 'Temperature', 'Humidity', 'Wind Speed', 'Pressure', 'Six-hour ahead Temperature'\n",
        "# Separate inputs and outputs\n",
        "X = data[[\"Temperature (C)\", \"Humidity\", \"Wind Speed (km/h)\", \"Pressure (millibars)\"]].values\n",
        "y = data[['one-hour ahead Temperature (C)']].values\n",
        "\n",
        "# Normalization\n",
        "# Scale the input features and target variable to the range [0, 1]; X_norm = (X - X_min) / (X_max - X_min)\n",
        "scaler_X = MinMaxScaler()\n",
        "scaler_y = MinMaxScaler()\n",
        "X = scaler_X.fit_transform(X)\n",
        "y = scaler_y.fit_transform(y)\n",
        "\n",
        "# Convert the numpy arrays to PyTorch tensors\n",
        "X = torch.tensor(X, dtype=torch.float32)\n",
        "y = torch.tensor(y, dtype=torch.float32)\n",
        "\n",
        "# Use the last 21 to 1 rows as test data\n",
        "X_test = X[-21:-1]\n",
        "y_test = y[-21:-1]\n",
        "\n",
        "# Use the remaining data as training data\n",
        "X_train = X[:-21]\n",
        "y_train = y[:-21]\n",
        "\n",
        "# Create a DataLoader for the training data to facilitate mini-batch training\n",
        "train_data = TensorDataset(X_train, y_train)\n",
        "train_loader = DataLoader(train_data, batch_size=32, shuffle=True)\n"
      ]
    },
    {
      "cell_type": "markdown",
      "source": [
        "**Define and Train the LSTM**"
      ],
      "metadata": {
        "id": "NztRWEIeJ-vz"
      }
    },
    {
      "cell_type": "code",
      "source": [
        "# Define the LSTM model class\n",
        "class WeatherLSTM(nn.Module):\n",
        "    def __init__(self, input_size, hidden_size, output_size):\n",
        "        super(WeatherLSTM, self).__init__()\n",
        "        # LSTM layer: input size, hidden size\n",
        "        # The difference between RNNs and LSTMs is that LSTMs don't have a specific \"number_of_layers\" to define their class\n",
        "        self.lstm = nn.LSTM(input_size, hidden_size, batch_first=True)\n",
        "        # Fully connected layer: hidden size to output size (1)\n",
        "        self.fc = nn.Linear(hidden_size, output_size)\n",
        "\n",
        "    def forward(self, x):\n",
        "        # Initialize hidden and cell states with zeros\n",
        "        h_0 = torch.zeros(1, x.size(0), hidden_size)\n",
        "        c_0 = torch.zeros(1, x.size(0), hidden_size)\n",
        "        # LSTM forward pass\n",
        "        out, _ = self.lstm(x, (h_0, c_0)) # It returns two tensors, and assigns the first tensor to out and discards the second one (might contain the final hidden state) using the _\n",
        "        # Fully connected layer\n",
        "        out = self.fc(out[:, -1, :]) #  It selects all elements of the 1st dimension (:), the last element (-1) of the 2nd dimension, and all elements of the 3rd dimension (:)\n",
        "        return out\n",
        "\n",
        "\n",
        "# Hyperparameters\n",
        "input_size = 4      # Number of input features\n",
        "hidden_size = 96    # Number of features in the hidden state\n",
        "output_size = 1     # Single output (next hour temperature)\n",
        "num_epochs = 100    # Number of epochs to train\n",
        "learning_rate = 0.001  # Learning rate\n",
        "\n",
        "# Initialize the model, loss function, and optimizer\n",
        "model = WeatherLSTM(input_size, hidden_size, output_size)\n",
        "\n",
        "criterion = nn.MSELoss()  # Mean Squared Error loss\n",
        "optimizer = torch.optim.Adam(model.parameters(), learning_rate)\n",
        "\n",
        "# Training loop\n",
        "for epoch in range(num_epochs):\n",
        "    for X_batch, y_batch in train_loader:\n",
        "        # Reshape input to (number of elements in the 1st dimention, sequence_length, input_size)\n",
        "        X_batch = X_batch.view(X_batch.size(0), 1, input_size)\n",
        "\n",
        "        # Forward pass\n",
        "        outputs = model(X_batch)\n",
        "        loss = criterion(outputs, y_batch)\n",
        "\n",
        "        # Backward pass and optimization\n",
        "        optimizer.zero_grad()\n",
        "        loss.backward()\n",
        "        optimizer.step()\n",
        "\n",
        "    if (epoch+1) % 10 == 0:\n",
        "        print(f'Epoch [{epoch+1}/{num_epochs}], Loss: {loss.item():.4f}')\n"
      ],
      "metadata": {
        "colab": {
          "base_uri": "https://localhost:8080/"
        },
        "id": "tRy_91A8Bsih",
        "outputId": "a9f7feee-b1f8-46c4-8b97-22c8ddbca0e5"
      },
      "execution_count": 8,
      "outputs": [
        {
          "output_type": "stream",
          "name": "stdout",
          "text": [
            "Epoch [10/100], Loss: 0.0225\n",
            "Epoch [20/100], Loss: 0.0073\n",
            "Epoch [30/100], Loss: 0.0035\n",
            "Epoch [40/100], Loss: 0.0009\n",
            "Epoch [50/100], Loss: 0.0051\n",
            "Epoch [60/100], Loss: 0.0017\n",
            "Epoch [70/100], Loss: 0.0014\n",
            "Epoch [80/100], Loss: 0.0049\n",
            "Epoch [90/100], Loss: 0.0042\n",
            "Epoch [100/100], Loss: 0.0014\n"
          ]
        }
      ]
    },
    {
      "cell_type": "markdown",
      "source": [
        "**Test the LSTM and Compare Predictions**"
      ],
      "metadata": {
        "id": "rXsvPZLrKAD9"
      }
    },
    {
      "cell_type": "code",
      "source": [
        "# When we don't need to compute gradients during the forward pass\n",
        "with torch.no_grad():\n",
        "    X_test = X_test.view(X_test.size(0), 1, input_size)\n",
        "    predictions = model(X_test)\n",
        "    actuals = y_test\n",
        "\n",
        "    # Rescale predictions and actuals back to original scale (Denormalization)\n",
        "    predictions = scaler_y.inverse_transform(predictions)\n",
        "    actuals = scaler_y.inverse_transform(actuals)\n",
        "\n",
        "    # Compare predictions and actual values\n",
        "    print('Predictions vs   Actuals         Comparison')\n",
        "    for i in range(len(predictions)):\n",
        "      print(predictions[i], '\\t', actuals[i], '\\t', predictions[i]-actuals[i])\n"
      ],
      "metadata": {
        "id": "ZIpTEia4qmir",
        "outputId": "7396e7da-3a0c-437f-aab9-a1c2ff073e54",
        "colab": {
          "base_uri": "https://localhost:8080/"
        }
      },
      "execution_count": 7,
      "outputs": [
        {
          "output_type": "stream",
          "name": "stdout",
          "text": [
            "Predictions vs   Actuals         Comparison\n",
            "[10.07328649] \t [9.46000015] \t [0.61328633]\n",
            "[9.58767553] \t [10.68000004] \t [-1.09232451]\n",
            "[10.73967732] \t [8.93999999] \t [1.79967733]\n",
            "[8.92116248] \t [8.93999999] \t [-0.01883751]\n",
            "[9.04982965] \t [12.49999986] \t [-3.45017021]\n",
            "[12.54033519] \t [16.03000026] \t [-3.48966508]\n",
            "[16.06464402] \t [19.86000005] \t [-3.79535603]\n",
            "[19.92818247] \t [21.87999945] \t [-1.95181699]\n",
            "[21.93550117] \t [22.80000035] \t [-0.86449918]\n",
            "[22.95498424] \t [23.96000013] \t [-1.00501589]\n",
            "[23.97412428] \t [24.92000032] \t [-0.94587604]\n",
            "[24.90652184] \t [24.96999983] \t [-0.06347799]\n",
            "[24.9550453] \t [25.03999976] \t [-0.08495446]\n",
            "[24.996814] \t [24.82999996] \t [0.16681403]\n",
            "[24.67560588] \t [22.22000046] \t [2.45560542]\n",
            "[22.13071562] \t [18.86999999] \t [3.26071563]\n",
            "[18.85497639] \t [17.13999976] \t [1.71497663]\n",
            "[17.14409111] \t [14.9300002] \t [2.2140909]\n",
            "[15.00469448] \t [15.41999974] \t [-0.41530526]\n",
            "[15.44390914] \t [14.17999981] \t [1.26390933]\n"
          ]
        }
      ]
    }
  ]
}