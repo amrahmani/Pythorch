{
  "nbformat": 4,
  "nbformat_minor": 0,
  "metadata": {
    "colab": {
      "provenance": [],
      "include_colab_link": true
    },
    "kernelspec": {
      "name": "python3",
      "display_name": "Python 3"
    },
    "language_info": {
      "name": "python"
    }
  },
  "cells": [
    {
      "cell_type": "markdown",
      "metadata": {
        "id": "view-in-github",
        "colab_type": "text"
      },
      "source": [
        "<a href=\"https://colab.research.google.com/github/amrahmani/NN/blob/main/Ch7_CNN_ImageClassification.ipynb\" target=\"_parent\"><img src=\"https://colab.research.google.com/assets/colab-badge.svg\" alt=\"Open In Colab\"/></a>"
      ]
    },
    {
      "cell_type": "markdown",
      "source": [
        "**Problem: Image Classification with MNIST**\n",
        "\n",
        "Using PyTorch, create a **convolutional neural network (CNN), LeNet CNN architecture** model for classifying handwritten digits from the MNIST dataset. Then, train the model using the training dataset and evaluate its performance on the test dataset."
      ],
      "metadata": {
        "id": "x62tYeGzowPW"
      }
    },
    {
      "cell_type": "markdown",
      "source": [
        "**Import Libraries**"
      ],
      "metadata": {
        "id": "5HxHuJOSpu9U"
      }
    },
    {
      "cell_type": "code",
      "source": [
        "import torch\n",
        "import torch.nn as nn\n",
        "from torchvision import datasets, transforms"
      ],
      "metadata": {
        "id": "AjeBb3bNpuqU"
      },
      "execution_count": 3,
      "outputs": []
    },
    {
      "cell_type": "markdown",
      "source": [
        "**Load and Prepare Dataset**"
      ],
      "metadata": {
        "id": "hvkhPc8YpuiU"
      }
    },
    {
      "cell_type": "code",
      "source": [
        "# Define transformations for preprocessing the input images\n",
        "transform = transforms.Compose([\n",
        "    transforms.ToTensor(),  # Convert images to tensors\n",
        "    transforms.Normalize((0.5,), (0.5,))  # Normalize MNIST data\n",
        "])\n",
        "\n",
        "# Load MNIST datasets for training and testing\n",
        "train_dataset = datasets.MNIST(root='./data', train=True, download=True, transform=transform)\n",
        "test_dataset = datasets.MNIST(root='./data', train=False, download=True, transform=transform)\n",
        "\n",
        "# Create data loaders for efficiently loading the data during training and testing\n",
        "train_loader = torch.utils.data.DataLoader(train_dataset, batch_size=64, shuffle=True)\n",
        "test_loader = torch.utils.data.DataLoader(test_dataset, batch_size=64, shuffle=False)"
      ],
      "metadata": {
        "id": "Trl5WehCpuab",
        "colab": {
          "base_uri": "https://localhost:8080/"
        },
        "outputId": "c48d8d27-accb-461a-b02b-9894fc99d97c"
      },
      "execution_count": 4,
      "outputs": [
        {
          "output_type": "stream",
          "name": "stdout",
          "text": [
            "Downloading http://yann.lecun.com/exdb/mnist/train-images-idx3-ubyte.gz\n",
            "Failed to download (trying next):\n",
            "HTTP Error 403: Forbidden\n",
            "\n",
            "Downloading https://ossci-datasets.s3.amazonaws.com/mnist/train-images-idx3-ubyte.gz\n",
            "Downloading https://ossci-datasets.s3.amazonaws.com/mnist/train-images-idx3-ubyte.gz to ./data/MNIST/raw/train-images-idx3-ubyte.gz\n"
          ]
        },
        {
          "output_type": "stream",
          "name": "stderr",
          "text": [
            "100%|██████████| 9912422/9912422 [00:00<00:00, 21839836.89it/s]\n"
          ]
        },
        {
          "output_type": "stream",
          "name": "stdout",
          "text": [
            "Extracting ./data/MNIST/raw/train-images-idx3-ubyte.gz to ./data/MNIST/raw\n",
            "\n",
            "Downloading http://yann.lecun.com/exdb/mnist/train-labels-idx1-ubyte.gz\n",
            "Failed to download (trying next):\n",
            "HTTP Error 403: Forbidden\n",
            "\n",
            "Downloading https://ossci-datasets.s3.amazonaws.com/mnist/train-labels-idx1-ubyte.gz\n",
            "Downloading https://ossci-datasets.s3.amazonaws.com/mnist/train-labels-idx1-ubyte.gz to ./data/MNIST/raw/train-labels-idx1-ubyte.gz\n"
          ]
        },
        {
          "output_type": "stream",
          "name": "stderr",
          "text": [
            "100%|██████████| 28881/28881 [00:00<00:00, 647410.55it/s]\n"
          ]
        },
        {
          "output_type": "stream",
          "name": "stdout",
          "text": [
            "Extracting ./data/MNIST/raw/train-labels-idx1-ubyte.gz to ./data/MNIST/raw\n",
            "\n",
            "Downloading http://yann.lecun.com/exdb/mnist/t10k-images-idx3-ubyte.gz\n",
            "Failed to download (trying next):\n",
            "HTTP Error 403: Forbidden\n",
            "\n",
            "Downloading https://ossci-datasets.s3.amazonaws.com/mnist/t10k-images-idx3-ubyte.gz\n",
            "Downloading https://ossci-datasets.s3.amazonaws.com/mnist/t10k-images-idx3-ubyte.gz to ./data/MNIST/raw/t10k-images-idx3-ubyte.gz\n"
          ]
        },
        {
          "output_type": "stream",
          "name": "stderr",
          "text": [
            "100%|██████████| 1648877/1648877 [00:00<00:00, 5608149.46it/s]\n"
          ]
        },
        {
          "output_type": "stream",
          "name": "stdout",
          "text": [
            "Extracting ./data/MNIST/raw/t10k-images-idx3-ubyte.gz to ./data/MNIST/raw\n",
            "\n",
            "Downloading http://yann.lecun.com/exdb/mnist/t10k-labels-idx1-ubyte.gz\n",
            "Failed to download (trying next):\n",
            "HTTP Error 403: Forbidden\n",
            "\n",
            "Downloading https://ossci-datasets.s3.amazonaws.com/mnist/t10k-labels-idx1-ubyte.gz\n",
            "Downloading https://ossci-datasets.s3.amazonaws.com/mnist/t10k-labels-idx1-ubyte.gz to ./data/MNIST/raw/t10k-labels-idx1-ubyte.gz\n"
          ]
        },
        {
          "output_type": "stream",
          "name": "stderr",
          "text": [
            "100%|██████████| 4542/4542 [00:00<00:00, 7556734.93it/s]"
          ]
        },
        {
          "output_type": "stream",
          "name": "stdout",
          "text": [
            "Extracting ./data/MNIST/raw/t10k-labels-idx1-ubyte.gz to ./data/MNIST/raw\n",
            "\n"
          ]
        },
        {
          "output_type": "stream",
          "name": "stderr",
          "text": [
            "\n"
          ]
        }
      ]
    },
    {
      "cell_type": "markdown",
      "source": [
        "**Define and Train the CNN**"
      ],
      "metadata": {
        "id": "UdzPM-PkpuSE"
      }
    },
    {
      "cell_type": "code",
      "source": [
        "# Define the Convolutional Neural Network (CNN) model\n",
        "class CNN(nn.Module):\n",
        "    def __init__(self):\n",
        "        super(CNN, self).__init__()\n",
        "        # First convolutional layer: input channels=1 (grayscale), output channels=6 feature maps, kernel size=3x3, stride=1 moves 1 pixel\n",
        "        # OutputSizeDimension=(InputDimension-kernel_size+1)/stride, Input=28x28 handwritten digits, Height=Width=28 => Outputsize=(28-3+1)/1=26, ImageSize=26x26\n",
        "        self.conv1 = nn.Conv2d(in_channels=1, out_channels=6, kernel_size=3, stride=1, padding=0)\n",
        "        # Max pooling layer with kernel size=2x2, stride=2 moves 2 pixels\n",
        "        # OutputSizeDimension=(InputDimension-kernel_size+1)/stride, InputFromPreviousLayer=26x26, Height=Width=26 => Outputsize=(26-2+1)/2=12.5 => 12,  ImageSize=12x12\n",
        "        self.pool = nn.MaxPool2d(kernel_size=2, stride=2, padding=0)\n",
        "        # Second convolutional layer: input channels=6 (from previous layer), output channels=16, kernel size=3x3, stride=1\n",
        "        self.conv2 = nn.Conv2d(in_channels=6, out_channels=16, kernel_size=3, stride=1, padding=0)\n",
        "        # Fully connected layer: input size=16x5x5 (from previous layer), output size=120\n",
        "        self.fc1 = nn.Linear(16 * 5 * 5, 120)\n",
        "        # Fully connected layer: input size=120 (from previous layer), output size=84\n",
        "        self.fc2 = nn.Linear(120, 84)\n",
        "        # Output layer: input size=84 (from previous layer), output size=10 (number of classes)\n",
        "        self.fc3 = nn.Linear(84, 10)\n",
        "\n",
        "    def forward(self, x):\n",
        "        # Forward pass through the first convolutional layer, followed by ReLU activation and max pooling\n",
        "        x = self.pool(nn.functional.relu(self.conv1(x)))\n",
        "        # Forward pass through the second convolutional layer, followed by ReLU activation and max pooling\n",
        "        x = self.pool(nn.functional.relu(self.conv2(x)))\n",
        "        # Reshape the output tensor to fit the fully connected layer\n",
        "        flattened_x = x.view(-1, 16 * 5 * 5)\n",
        "        # Forward pass through the first fully connected layer, followed by ReLU activation\n",
        "        x = nn.functional.relu(self.fc1(flattened_x))\n",
        "        # Forward pass through the second fully connected layer, followed by ReLU activation\n",
        "        x = nn.functional.relu(self.fc2(x))\n",
        "        # Output layer with no activation function applied\n",
        "        x = self.fc3(x)\n",
        "        return x\n",
        "\n",
        "# Create an instance of the CNN model\n",
        "model = CNN()\n",
        "\n",
        "# Define loss function (cross-entropy) and optimizer (Adam) for training the model\n",
        "criterion = nn.CrossEntropyLoss()\n",
        "optimizer = torch.optim.Adam(model.parameters(), lr=0.001)\n",
        "\n",
        "# Train the model\n",
        "num_epochs = 1\n",
        "for epoch in range(num_epochs):\n",
        "    for i, (images, labels) in enumerate(train_loader):\n",
        "        # Forward pass: compute predicted outputs by passing inputs to the model\n",
        "        outputs = model(images)\n",
        "        # Adjust target labels to match output size\n",
        "        target_labels = labels[:outputs.size(0)]\n",
        "        # Calculate the loss\n",
        "        loss = criterion(outputs, target_labels)\n",
        "        # Backward pass: compute gradient of the loss with respect to model parameters\n",
        "        optimizer.zero_grad()\n",
        "        loss.backward()\n",
        "        # Perform a single optimization step (parameter update)\n",
        "        optimizer.step()\n",
        "\n",
        "        # Print loss statistics\n",
        "        if (i+1) % 100 == 0:\n",
        "            print(f'Epoch [{epoch+1}/{num_epochs}], Step [{i+1}/{len(train_loader)}], Loss: {loss.item():.4f}')"
      ],
      "metadata": {
        "colab": {
          "base_uri": "https://localhost:8080/"
        },
        "id": "3TqfJ9zGpuI1",
        "outputId": "50578b44-44ab-4e54-8324-763bb3c58cab"
      },
      "execution_count": 5,
      "outputs": [
        {
          "output_type": "stream",
          "name": "stdout",
          "text": [
            "Epoch [1/1], Step [100/938], Loss: 0.8550\n",
            "Epoch [1/1], Step [200/938], Loss: 0.2043\n",
            "Epoch [1/1], Step [300/938], Loss: 0.2316\n",
            "Epoch [1/1], Step [400/938], Loss: 0.1250\n",
            "Epoch [1/1], Step [500/938], Loss: 0.2044\n",
            "Epoch [1/1], Step [600/938], Loss: 0.0369\n",
            "Epoch [1/1], Step [700/938], Loss: 0.1264\n",
            "Epoch [1/1], Step [800/938], Loss: 0.0308\n",
            "Epoch [1/1], Step [900/938], Loss: 0.1286\n"
          ]
        }
      ]
    },
    {
      "cell_type": "markdown",
      "source": [
        "**Test the CNN and Calculate Accuracy**"
      ],
      "metadata": {
        "id": "dsdJeHygpt_j"
      }
    },
    {
      "cell_type": "code",
      "source": [
        "# Test the trained model\n",
        "with torch.no_grad():\n",
        "    correct = 0\n",
        "    total = 0\n",
        "    for images, labels in test_loader:\n",
        "        # Forward pass: compute predicted outputs by passing inputs to the model\n",
        "        outputs = model(images)\n",
        "        # Get predicted labels\n",
        "        _, predicted = torch.max(outputs.data, 1)\n",
        "        # Total number of labels\n",
        "        total += labels.size(0)\n",
        "        # Total number of correct predictions\n",
        "        correct += (predicted == labels).sum().item()\n",
        "\n",
        "    # Print the accuracy of the model on the test dataset\n",
        "    print(f'Accuracy of the network on the 10000 test images: {100 * correct / total:.2f}%')"
      ],
      "metadata": {
        "colab": {
          "base_uri": "https://localhost:8080/"
        },
        "id": "6aD_t6Vzpkpb",
        "outputId": "433f5b97-4302-408e-b3f2-30f9fcf815a0"
      },
      "execution_count": 6,
      "outputs": [
        {
          "output_type": "stream",
          "name": "stdout",
          "text": [
            "Accuracy of the network on the 10000 test images: 97.22%\n"
          ]
        }
      ]
    },
    {
      "cell_type": "markdown",
      "source": [
        "Visualize and understand the feature maps learned by the CNN's convolutional layers."
      ],
      "metadata": {
        "id": "ZfdX1GUA-zAA"
      }
    },
    {
      "cell_type": "code",
      "source": [
        "import numpy as np\n",
        "import matplotlib.pyplot as plt\n",
        "\n",
        "\n",
        "# Load dataset and define CNN (use the previous SimpleCNN and train_model functions)\n",
        "model = CNN()\n",
        "# Function to visualize feature maps\n",
        "\n",
        "\n",
        "def visualize_feature_maps(model, test_loader):\n",
        "    data, _ = next(iter(test_loader))\n",
        "    data = data[0:1]  # Take one sample\n",
        "\n",
        "    # Get the number of channels in the input image\n",
        "    num_channels = data.shape[1]\n",
        "\n",
        "    # Create subplots based on number of channels, ensuring we get an iterable axes object\n",
        "    fig, axes = plt.subplots(1, num_channels, figsize=(15, 15), squeeze=False)\n",
        "    for i, ax in enumerate(axes.flatten()): # Flatten axes array for iteration\n",
        "        ax.imshow(data[0, i, :, :], cmap='gray')\n",
        "        ax.axis('off')\n",
        "    plt.show()\n",
        "\n",
        "    with torch.no_grad():\n",
        "        conv1_output = model.conv1(data).numpy()\n",
        "        conv2_output = model.conv2(nn.functional.relu(nn.functional.max_pool2d(model.conv1(data), 2))).numpy()\n",
        "\n",
        "    # Plotting the feature maps from the first convolutional layer\n",
        "    num_feature_maps_conv1 = conv1_output.shape[1] # Get the number of feature maps in the first layer\n",
        "    fig, axes = plt.subplots(1, num_feature_maps_conv1, figsize=(15, 15), squeeze=False) # Create subplots, ensuring iterable axes\n",
        "    for i, ax in enumerate(axes.flatten()): # Flatten for iteration\n",
        "        ax.imshow(conv1_output[0, i, :, :], cmap='gray')\n",
        "        ax.axis('off')\n",
        "    plt.show()\n",
        "\n",
        "    # Plotting the feature maps from the second convolutional layer\n",
        "    num_feature_maps_conv2 = conv2_output.shape[1] # Get the number of feature maps in the second layer\n",
        "    fig, axes = plt.subplots(1, num_feature_maps_conv2, figsize=(15, 15), squeeze=False) # Create subplots, ensuring iterable axes\n",
        "    for i, ax in enumerate(axes.flatten()): # Flatten for iteration\n",
        "        ax.imshow(conv2_output[0, i, :, :], cmap='gray')\n",
        "        ax.axis('off')\n",
        "    plt.show()\n",
        "\n",
        "# Visualize the feature maps\n",
        "visualize_feature_maps(model, test_loader)"
      ],
      "metadata": {
        "colab": {
          "base_uri": "https://localhost:8080/",
          "height": 1000
        },
        "id": "3iUuDsnU-yOp",
        "outputId": "da3e7360-1870-40f1-d5b0-f7d4b8655f7f"
      },
      "execution_count": 25,
      "outputs": [
        {
          "output_type": "display_data",
          "data": {
            "text/plain": [
              "<Figure size 1500x1500 with 1 Axes>"
            ],
            "image/png": "[encoded data removed]"
          },
          "metadata": {}
        },
        {
          "output_type": "display_data",
          "data": {
            "text/plain": [
              "<Figure size 1500x1500 with 6 Axes>"
            ],
            "image/png": "[encoded data removed]"
          },
          "metadata": {}
        },
        {
          "output_type": "display_data",
          "data": {
            "text/plain": [
              "<Figure size 1500x1500 with 16 Axes>"
            ],
            "image/png": "[encoded data removed]"
          },
          "metadata": {}
        }
      ]
    },
    {
      "cell_type": "markdown",
      "source": [
        "Compare the performance of different optimizers (SGD, Adam, on CNN training."
      ],
      "metadata": {
        "id": "U0tPrBymBErR"
      }
    },
    {
      "cell_type": "markdown",
      "source": [
        "Experiment with different hyperparameters (learning rate, batch size) to optimize CNN performance."
      ],
      "metadata": {
        "id": "LkhTWfzOK9Z5"
      }
    },
    {
      "cell_type": "markdown",
      "source": [
        "Design a new CNN architecture different from LeNet (e.g., using different kernel sizes, number of filters).\n",
        "Train the custom CNN on the MNIST dataset.\n",
        "Evaluate and compare the performance with LeNet."
      ],
      "metadata": {
        "id": "9cbwu34yPNnK"
      }
    }
  ]
}