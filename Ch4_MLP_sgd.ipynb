{
  "nbformat": 4,
  "nbformat_minor": 0,
  "metadata": {
    "colab": {
      "provenance": [],
      "include_colab_link": true
    },
    "kernelspec": {
      "name": "python3",
      "display_name": "Python 3"
    },
    "language_info": {
      "name": "python"
    }
  },
  "cells": [
    {
      "cell_type": "markdown",
      "metadata": {
        "id": "view-in-github",
        "colab_type": "text"
      },
      "source": [
        "<a href=\"https://colab.research.google.com/github/amrahmani/Pythorch/blob/main/Ch4_MLP_sgd.ipynb\" target=\"_parent\"><img src=\"https://colab.research.google.com/assets/colab-badge.svg\" alt=\"Open In Colab\"/></a>"
      ]
    },
    {
      "cell_type": "markdown",
      "source": [
        "Write PyTorch code to create a multi-layer perceptron with one hidden layer containing three neurons, two inputs, and one output. The output should have a sigmoid activation function. Suppose we want to train it with the following dataset: [(x = (1, 1), y = 0), (x = (1, 2), y = 0), (x = (1, 3), y = 1), (x = (3, 2), y = 1), (x = (3, 1), y = 1), (x = (2, 2), y = 0), (x = (3, 3), y = 1), (x = (3, 4), y = 1)]"
      ],
      "metadata": {
        "id": "Mdddo8tJL5Zh"
      }
    },
    {
      "cell_type": "code",
      "execution_count": 4,
      "metadata": {
        "colab": {
          "base_uri": "https://localhost:8080/"
        },
        "id": "kPY0IrUfFeZI",
        "outputId": "15b2d465-944d-4b45-b770-7b6726903ac9"
      },
      "outputs": [
        {
          "output_type": "stream",
          "name": "stdout",
          "text": [
            "Input: (1, 1), Predicted Output: 0.2012\n",
            "Input: (1, 2), Predicted Output: 0.3420\n",
            "Input: (1, 3), Predicted Output: 0.5333\n",
            "Input: (3, 2), Predicted Output: 0.8179\n",
            "Input: (3, 1), Predicted Output: 0.7211\n",
            "Input: (2, 2), Predicted Output: 0.6372\n",
            "Input: (3, 3), Predicted Output: 0.8677\n",
            "Input: (3, 4), Predicted Output: 0.8929\n"
          ]
        }
      ],
      "source": [
        "import torch\n",
        "import torch.nn as nn\n",
        "import torch.optim as optim\n",
        "\n",
        "# Define the multi-layer perceptron model\n",
        "class MLP(nn.Module):\n",
        "    def __init__(self):\n",
        "        super(MLP, self).__init__()\n",
        "        # Define the hidden layer with 3 neurons and input size 2\n",
        "        self.hidden = nn.Linear(2, 3)\n",
        "        # Define the output layer with 1 neuron\n",
        "        self.output = nn.Linear(3, 1)\n",
        "\n",
        "    def forward(self, x):\n",
        "        # Apply sigmoid activation function to the hidden layer output\n",
        "        x = torch.sigmoid(self.hidden(x))\n",
        "        # Apply sigmoid activation function to the output layer\n",
        "        x = torch.sigmoid(self.output(x))\n",
        "        return x\n",
        "\n",
        "# Dataset\n",
        "# Define input-output pairs for training\n",
        "\n",
        "dataset = [\n",
        "    (torch.tensor([1., 1.]), torch.tensor(0.0)),  # Ensure target is float\n",
        "    (torch.tensor([1., 2.]), torch.tensor(0.0)),\n",
        "    (torch.tensor([1., 3.]), torch.tensor(1.0)),\n",
        "    (torch.tensor([3., 2.]), torch.tensor(1.0)),\n",
        "    (torch.tensor([3., 1.]), torch.tensor(0.0)),\n",
        "    (torch.tensor([2., 2.]), torch.tensor(0.0)),\n",
        "    (torch.tensor([3., 3.]), torch.tensor(1.0)),\n",
        "    (torch.tensor([3., 4.]), torch.tensor(1.0)),\n",
        "]\n",
        "\n",
        "# Model, Loss function, and Optimizer\n",
        "# Create an instance of MLP model\n",
        "model = MLP()\n",
        "# Define the loss function (Binary Cross Entropy Loss for binary classification)\n",
        "criterion = nn.BCELoss()\n",
        "# Define the optimizer (Stochastic Gradient Descent)\n",
        "optimizer = optim.SGD(model.parameters(), lr=0.1)\n",
        "\n",
        "# Training loop\n",
        "epochs = 1000\n",
        "for epoch in range(epochs):\n",
        "    # Forward pass\n",
        "    # Compute the predicted outputs for the inputs\n",
        "    outputs = model(inputs)\n",
        "    # Compute the loss between predicted outputs and targets\n",
        "    loss = criterion(outputs, targets)\n",
        "\n",
        "    # Backward pass and optimization\n",
        "    # Zero the gradients to prevent accumulation\n",
        "    optimizer.zero_grad()\n",
        "    # Compute gradients of the loss w.r.t. model parameters\n",
        "    loss.backward()\n",
        "    # Update model parameters using optimizer\n",
        "    optimizer.step()\n",
        "\n",
        "# Testing\n",
        "# Test the trained model with some sample data\n",
        "test_data = [(1, 1), (1, 2), (1, 3), (3, 2), (3, 1), (2, 2), (3, 3), (3, 4)]\n",
        "for input_data in test_data:\n",
        "    # Convert input data to tensor\n",
        "    input_tensor = torch.tensor(input_data, dtype=torch.float32)\n",
        "    # Get model prediction for the input\n",
        "    prediction = model(input_tensor).item()\n",
        "    print(f'Input: {input_data}, Predicted Output: {prediction:.4f}')\n"
      ]
    }
  ]
}