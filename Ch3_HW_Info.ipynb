{
  "nbformat": 4,
  "nbformat_minor": 0,
  "metadata": {
    "colab": {
      "provenance": [],
      "gpuType": "T4",
      "authorship_tag": "ABX9TyPvKevftYlNLbiG13yKCpVr",
      "include_colab_link": true
    },
    "kernelspec": {
      "name": "python3",
      "display_name": "Python 3"
    },
    "language_info": {
      "name": "python"
    },
    "accelerator": "GPU"
  },
  "cells": [
    {
      "cell_type": "markdown",
      "metadata": {
        "id": "view-in-github",
        "colab_type": "text"
      },
      "source": [
        "<a href=\"https://colab.research.google.com/github/amrahmani/Pythorch/blob/main/HW_Info.ipynb\" target=\"_parent\"><img src=\"https://colab.research.google.com/assets/colab-badge.svg\" alt=\"Open In Colab\"/></a>"
      ]
    },
    {
      "cell_type": "markdown",
      "source": [
        "Write Python code that checks the available resources (TPU, CPU, GPU), CUDA, Memory, HDD, and their memory capacities on your system (or Google Colab), and allocates the model and data tensors to the most suitable device for efficient processing."
      ],
      "metadata": {
        "id": "LfZ7X2XDcFbF"
      }
    },
    {
      "cell_type": "code",
      "source": [
        "import torch\n",
        "import psutil  # for memory information\n",
        "import platform  # for general hardware information\n",
        "\n",
        "# Check if CUDA is available\n",
        "cuda_available = torch.cuda.is_available()\n",
        "\n",
        "if cuda_available:\n",
        "    device = torch.device(\"cuda\")\n",
        "    print(\"CUDA available\")\n",
        "    print(\"CUDA Device:\", torch.cuda.get_device_name(0))\n",
        "else:\n",
        "    device = torch.device(\"cpu\")\n",
        "    print(\"CUDA not available\")\n",
        "\n",
        "# Check CPU resources\n",
        "cpu_info = platform.processor()\n",
        "print(\"CPU:\", cpu_info)\n",
        "cpu_count = psutil.cpu_count(logical=False)\n",
        "print(\"Number of physical CPU cores:\", cpu_count)\n",
        "logical_cpu_count = psutil.cpu_count(logical=True)\n",
        "print(\"Number of logical CPU cores:\", logical_cpu_count)\n",
        "\n",
        "# Memory information\n",
        "memory = psutil.virtual_memory()\n",
        "total_memory_gb = round(memory.total / (1024 ** 3), 2)\n",
        "print(\"Total Memory:\", total_memory_gb, \"GB\")\n",
        "available_memory_gb = round(memory.available / (1024 ** 3), 2)\n",
        "print(\"Available Memory:\", available_memory_gb, \"GB\")\n",
        "\n",
        "# Hard disk information (this is a basic example, may not work in all environments)\n",
        "try:\n",
        "    disk_info = psutil.disk_usage('/')\n",
        "    total_disk_gb = round(disk_info.total / (1024 ** 3), 2)\n",
        "    used_disk_gb = round(disk_info.used / (1024 ** 3), 2)\n",
        "    print(\"Total Disk Space:\", total_disk_gb, \"GB\")\n",
        "    print(\"Used Disk Space:\", used_disk_gb, \"GB\")\n",
        "except Exception as e:\n",
        "    print(\"Failed to retrieve disk information:\", e)\n",
        "\n",
        "# Other hardware information\n",
        "system_info = platform.uname()\n",
        "print(\"System Information:\", system_info)\n",
        "\n",
        "# Allocate tensors to suitable device\n",
        "if cuda_available:\n",
        "    print(\"Using CUDA for model and data tensors\")\n",
        "    # Your model and data tensor allocations here\n",
        "else:\n",
        "    print(\"Using CPU for model and data tensors\")\n",
        "    # Your model and data tensor allocations here\n"
      ],
      "metadata": {
        "colab": {
          "base_uri": "https://localhost:8080/"
        },
        "id": "RtrM4whwa0gn",
        "outputId": "882b18c3-a1d3-425e-dcb0-f55b56498c5c"
      },
      "execution_count": null,
      "outputs": [
        {
          "output_type": "stream",
          "name": "stdout",
          "text": [
            "CUDA available\n",
            "CUDA Device: Tesla T4\n",
            "CPU: x86_64\n",
            "Number of physical CPU cores: 1\n",
            "Number of logical CPU cores: 2\n",
            "Total Memory: 12.67 GB\n",
            "Available Memory: 11.51 GB\n",
            "Total Disk Space: 78.19 GB\n",
            "Used Disk Space: 26.05 GB\n",
            "System Information: uname_result(system='Linux', node='1c35bb1e6328', release='6.1.58+', version='#1 SMP PREEMPT_DYNAMIC Sat Nov 18 15:31:17 UTC 2023', machine='x86_64')\n",
            "Using CUDA for model and data tensors\n"
          ]
        }
      ]
    }
  ]
}
