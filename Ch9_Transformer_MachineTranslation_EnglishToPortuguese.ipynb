{
  "nbformat": 4,
  "nbformat_minor": 0,
  "metadata": {
    "colab": {
      "provenance": [],
      "authorship_tag": "ABX9TyPuoumsIklUBHydTjOMri5K",
      "include_colab_link": true
    },
    "kernelspec": {
      "name": "python3",
      "display_name": "Python 3"
    },
    "language_info": {
      "name": "python"
    }
  },
  "cells": [
    {
      "cell_type": "markdown",
      "metadata": {
        "id": "view-in-github",
        "colab_type": "text"
      },
      "source": [
        "<a href=\"https://colab.research.google.com/github/amrahmani/Pythorch/blob/main/Ch9_Transformer_MachineTranslation_EnglishToPortuguese.ipynb\" target=\"_parent\"><img src=\"https://colab.research.google.com/assets/colab-badge.svg\" alt=\"Open In Colab\"/></a>"
      ]
    },
    {
      "cell_type": "markdown",
      "source": [
        "**Machine Translation**\n",
        "\n",
        "**Problem:** Using PyTorch, build a Transformer neural network for machine translation from English to Portuguese. First, create a dataset of 20 greeting sentences and define the vocabulary. Then, train and evaluate the Transformer on this dataset."
      ],
      "metadata": {
        "id": "jVZ2WopHB9mB"
      }
    },
    {
      "cell_type": "markdown",
      "source": [
        "**Example dataset**\n",
        "\n",
        "English: Hello\n",
        "\n",
        "Portuguese: Ola\n",
        "\n",
        "English: How are you?\n",
        "\n",
        "Portuguese: Como esta?\n",
        "\n",
        "English: Thank you\n",
        "\n",
        "Portuguese: Obrigado\n",
        "\n",
        "English: Good morning\n",
        "\n",
        "Portuguese: bom dia\n",
        "\n",
        "English: Good night\n",
        "\n",
        "Portuguese: bom noite\n"
      ],
      "metadata": {
        "id": "4waDYDNGgddR"
      }
    },
    {
      "cell_type": "markdown",
      "source": [
        "**Tokenization**"
      ],
      "metadata": {
        "id": "TxL3VTPgf9Ms"
      }
    },
    {
      "cell_type": "code",
      "execution_count": 64,
      "metadata": {
        "id": "6XSPfup4ZlTR"
      },
      "outputs": [],
      "source": [
        "import torch\n",
        "import torch.nn as nn\n",
        "import torch.optim as optim\n",
        "\n",
        "english_vocab = {'<sos>': 0, '<eos>': 1, '<pad>': 2, 'Hello': 3, 'How': 4, 'are': 5, 'you': 6, '?': 7, 'Thank': 8, 'Good': 9, 'morning': 10, 'night': 11}\n",
        "portuguese_vocab = {'<sos>': 0, '<eos>': 1, '<pad>': 2, 'Ola': 3, 'como': 4, 'esta': 5, '?': 6, 'Obrigado': 7, 'bom': 8, 'dia': 9, 'noite': 10}"
      ]
    },
    {
      "cell_type": "markdown",
      "source": [
        "**Build Vocabulary**"
      ],
      "metadata": {
        "id": "tzrM3NXTZ-n9"
      }
    },
    {
      "cell_type": "code",
      "source": [
        "english_sentences = [\n",
        "    [3],  # Hello\n",
        "    [4, 5, 6, 7],  # How are you?\n",
        "    [8, 6],  # Thank you\n",
        "    [9, 10],  # Good morning\n",
        "    [9, 11]  # Good night\n",
        "]\n",
        "portuguese_sentences = [\n",
        "    [3],  # Ola\n",
        "    [4, 5, 6, 7],  # Como esta?\n",
        "    [8],  # Obrigado\n",
        "    [9, 10],  # bom dia\n",
        "    [11, 10]  # bom noite\n",
        "]"
      ],
      "metadata": {
        "id": "QPh6HDEjZ_vT"
      },
      "execution_count": 65,
      "outputs": []
    },
    {
      "cell_type": "markdown",
      "source": [
        "**Convert Tokens to Indices**"
      ],
      "metadata": {
        "id": "y0Wr_gDOaF7s"
      }
    },
    {
      "cell_type": "code",
      "source": [
        "src_data = [\n",
        "    [0, 3, 1],  # <sos> Hello <eos>\n",
        "    [0, 4, 5, 6, 7, 1],  # <sos> How are you? <eos>\n",
        "    [0, 8, 6, 1],  # <sos> Thank you <eos>\n",
        "    [0, 9, 10, 1],  # <sos> Good morning <eos>\n",
        "    [0, 9, 11, 1]  # <sos> Good night <eos>\n",
        "]\n",
        "tgt_data = [\n",
        "    [0, 3, 1],  # <sos> Ola <eos>\n",
        "    [0, 4, 5, 6, 1],  # <sos> Como esta? <eos>\n",
        "    [0, 7, 1],  # <sos> Obrigado <eos>\n",
        "    [0, 8, 9, 1],  # <sos> bom dia <eos>\n",
        "    [0, 8, 10, 1]  # <sos> bom noite <eos>\n",
        "]\n",
        "\n",
        "# Convert lists to tensors\n",
        "src_tensors = [torch.tensor(sentence) for sentence in src_data]\n",
        "tgt_tensors = [torch.tensor(sentence) for sentence in tgt_data]"
      ],
      "metadata": {
        "id": "rCiilgkwaGai"
      },
      "execution_count": 66,
      "outputs": []
    },
    {
      "cell_type": "markdown",
      "source": [
        "**Transfer Model**"
      ],
      "metadata": {
        "id": "oxFqbl34aSn9"
      }
    },
    {
      "cell_type": "code",
      "source": [
        "class SimpleTransformer(nn.Module):\n",
        "    def __init__(self, src_vocab_size, tgt_vocab_size, d_model=256, nhead=8, num_encoder_layers=3, num_decoder_layers=3, dim_feedforward=512):\n",
        "        super(SimpleTransformer, self).__init__()\n",
        "        self.encoder_embedding = nn.Embedding(src_vocab_size, d_model)\n",
        "        self.decoder_embedding = nn.Embedding(tgt_vocab_size, d_model)\n",
        "        self.transformer = nn.Transformer(d_model, nhead, num_encoder_layers, num_decoder_layers, dim_feedforward)\n",
        "        self.fc_out = nn.Linear(d_model, tgt_vocab_size)\n",
        "        self.src_vocab_size = src_vocab_size\n",
        "        self.tgt_vocab_size = tgt_vocab_size\n",
        "        self.d_model = d_model\n",
        "\n",
        "    def forward(self, src, tgt):\n",
        "        src = self.encoder_embedding(src) * (self.d_model ** 0.5)\n",
        "        tgt = self.decoder_embedding(tgt) * (self.d_model ** 0.5)\n",
        "        src = src.permute(1, 0, 2)\n",
        "        tgt = tgt.permute(1, 0, 2)\n",
        "        memory = self.transformer.encoder(src)\n",
        "        output = self.transformer.decoder(tgt, memory)\n",
        "        output = self.fc_out(output)\n",
        "        return output.permute(1, 0, 2)\n",
        "\n",
        "    def generate(self, src, max_len=10):\n",
        "        src = self.encoder_embedding(src) * (self.d_model ** 0.5)\n",
        "        src = src.permute(1, 0, 2)\n",
        "        memory = self.transformer.encoder(src)\n",
        "        tgt = torch.tensor([[0]]).to(src.device)  # Start with <sos>\n",
        "        generated_indices = []\n",
        "        for _ in range(max_len):\n",
        "            tgt_emb = self.decoder_embedding(tgt) * (self.d_model ** 0.5)\n",
        "            tgt_emb = tgt_emb.permute(1, 0, 2)\n",
        "            output = self.transformer.decoder(tgt_emb, memory)\n",
        "            output = self.fc_out(output)\n",
        "            next_token = output.argmax(2)[-1, :].unsqueeze(0)\n",
        "            generated_indices.append(next_token.item())\n",
        "            tgt = torch.cat((tgt, next_token), dim=1)\n",
        "            if next_token.item() == 1:  # <eos>\n",
        "                break\n",
        "        return generated_indices"
      ],
      "metadata": {
        "id": "JLT1WUAJaTCg"
      },
      "execution_count": 67,
      "outputs": []
    },
    {
      "cell_type": "markdown",
      "source": [
        "**Training**"
      ],
      "metadata": {
        "id": "1SWYlUiAbC6L"
      }
    },
    {
      "cell_type": "code",
      "source": [
        "# Define the vocabulary sizes and initialize the model\n",
        "src_vocab_size = len(english_vocab)\n",
        "tgt_vocab_size = len(portuguese_vocab)\n",
        "model = SimpleTransformer(src_vocab_size, tgt_vocab_size)\n",
        "\n",
        "criterion = nn.CrossEntropyLoss(ignore_index=2)  # Ignore pad token in loss\n",
        "optimizer = optim.Adam(model.parameters(), lr=0.001)\n",
        "\n",
        "# Convert sentences to tensors and pad sequences to the same length\n",
        "def pad_sequences(sequences, max_len, pad_value=2):\n",
        "    return [torch.cat([seq, torch.full((max_len - len(seq),), pad_value)]) for seq in sequences]\n",
        "\n",
        "max_len = max(max(len(s) for s in src_tensors), max(len(s) for s in tgt_tensors))\n",
        "src_tensors = pad_sequences(src_tensors, max_len)\n",
        "tgt_tensors = pad_sequences(tgt_tensors, max_len)\n",
        "\n",
        "src_tensor = torch.stack(src_tensors)\n",
        "tgt_tensor = torch.stack(tgt_tensors)\n",
        "\n",
        "src_tensor = src_tensor.to(torch.int64)\n",
        "tgt_tensor = tgt_tensor.to(torch.int64)\n",
        "\n",
        "for epoch in range(100):  # Train for 100 epochs\n",
        "    model.train()\n",
        "    optimizer.zero_grad()\n",
        "\n",
        "    # Forward pass\n",
        "    output = model(src_tensor, tgt_tensor[:, :-1])\n",
        "\n",
        "    # Compute loss\n",
        "    loss = criterion(output.reshape(-1, tgt_vocab_size), tgt_tensor[:, 1:].reshape(-1))\n",
        "\n",
        "    # Backward pass and optimization\n",
        "    loss.backward()\n",
        "    optimizer.step()\n",
        "\n",
        "    if epoch % 10 == 0:\n",
        "        print(f'Epoch {epoch}, Loss: {loss.item()}')\n"
      ],
      "metadata": {
        "colab": {
          "base_uri": "https://localhost:8080/"
        },
        "id": "uI084rcjbgpK",
        "outputId": "ee2573f4-81df-4bb2-f278-697665faed23"
      },
      "execution_count": 68,
      "outputs": [
        {
          "output_type": "stream",
          "name": "stdout",
          "text": [
            "Epoch 0, Loss: 2.773191452026367\n",
            "Epoch 10, Loss: 0.21388719975948334\n",
            "Epoch 20, Loss: 0.023206619545817375\n",
            "Epoch 30, Loss: 0.007096690591424704\n",
            "Epoch 40, Loss: 0.003973889164626598\n",
            "Epoch 50, Loss: 0.0028921852353960276\n",
            "Epoch 60, Loss: 0.0021512166131287813\n",
            "Epoch 70, Loss: 0.00209934264421463\n",
            "Epoch 80, Loss: 0.0017372026341035962\n",
            "Epoch 90, Loss: 0.0015720758819952607\n"
          ]
        }
      ]
    },
    {
      "cell_type": "markdown",
      "source": [
        "**Evaluation**"
      ],
      "metadata": {
        "id": "dZYmACg1aXcG"
      }
    },
    {
      "cell_type": "code",
      "source": [
        "model.eval()\n",
        "src_sentence = [0, 8, 6, 1]  # <sos> Thank you <eos>\n",
        "src_tensor = torch.tensor(src_sentence).unsqueeze(0).to(torch.int64)\n",
        "generated_indices = model.generate(src_tensor)\n",
        "\n",
        "translated_sentence = [list(portuguese_vocab.keys())[i] for i in generated_indices]\n",
        "print(' '.join(translated_sentence))\n"
      ],
      "metadata": {
        "colab": {
          "base_uri": "https://localhost:8080/"
        },
        "id": "cuhETHSzaX28",
        "outputId": "333756ea-fa04-4cb7-870c-74c989b91af2"
      },
      "execution_count": 69,
      "outputs": [
        {
          "output_type": "stream",
          "name": "stdout",
          "text": [
            "Obrigado <eos>\n"
          ]
        }
      ]
    },
    {
      "cell_type": "markdown",
      "source": [
        "**Hands-on activities in the class**\n",
        "\n",
        "Increase the vocabulary size and dataset size.\n",
        "\n",
        "Create a mini-dictionary focused on a specific domain (e.g., renting rooms, classroom objects)\n",
        "\n",
        "Modify hyperparameters to improve translation accuracy.\n",
        "\n",
        "Translate greetings from English to the target language, rather than just Portuguese."
      ],
      "metadata": {
        "id": "DoOT3EOnDroO"
      }
    }
  ]
}