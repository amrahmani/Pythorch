{
  "nbformat": 4,
  "nbformat_minor": 0,
  "metadata": {
    "colab": {
      "provenance": [],
      "authorship_tag": "ABX9TyPp1ah/vtqunFosupWAJHia",
      "include_colab_link": true
    },
    "kernelspec": {
      "name": "python3",
      "display_name": "Python 3"
    },
    "language_info": {
      "name": "python"
    }
  },
  "cells": [
    {
      "cell_type": "markdown",
      "metadata": {
        "id": "view-in-github",
        "colab_type": "text"
      },
      "source": [
        "<a href=\"https://colab.research.google.com/github/amrahmani/Pythorch/blob/main/Ch9_Transformer_MachineTranslation_EnglishToPortuguese.ipynb\" target=\"_parent\"><img src=\"https://colab.research.google.com/assets/colab-badge.svg\" alt=\"Open In Colab\"/></a>"
      ]
    },
    {
      "cell_type": "markdown",
      "source": [
        "**Machine Translation**\n",
        "\n",
        "**Problem:** Using PyTorch, build a Transformer neural network for machine translation from English to Portuguese. First, create a dataset of 20 greeting sentences and define the vocabulary. Then, train and evaluate the Transformer on this dataset."
      ],
      "metadata": {
        "id": "jVZ2WopHB9mB"
      }
    },
    {
      "cell_type": "markdown",
      "source": [
        "**Example dataset**\n",
        "\n",
        "English: Hello\n",
        "\n",
        "Portuguese: Ola\n",
        "\n",
        "English: How are you?\n",
        "\n",
        "Portuguese: Como esta?\n",
        "\n",
        "English: Thank you\n",
        "\n",
        "Portuguese: Obrigado\n",
        "\n",
        "English: Good morning\n",
        "\n",
        "Portuguese: bom dia\n",
        "\n",
        "English: Good night\n",
        "\n",
        "Portuguese: bom noite\n"
      ],
      "metadata": {
        "id": "4waDYDNGgddR"
      }
    },
    {
      "cell_type": "markdown",
      "source": [
        "**Tokenization**"
      ],
      "metadata": {
        "id": "TxL3VTPgf9Ms"
      }
    },
    {
      "cell_type": "code",
      "execution_count": 8,
      "metadata": {
        "id": "6XSPfup4ZlTR"
      },
      "outputs": [],
      "source": [
        "import torch\n",
        "import torch.nn as nn\n",
        "\n",
        "english_vocab = {'<sos>': 0, '<eos>': 1, '<pad>': 2, 'Hello': 3, 'How': 4, 'are': 5, 'you': 6, '?': 7, 'Thank': 8, 'Good': 9, 'morning': 10, 'night': 11}\n",
        "portuguese_vocab = {'<sos>': 0, '<eos>': 1, '<pad>': 2, 'Ola': 3, 'como': 4, 'esta': 5, '?': 6, 'Obrigado': 7, 'bom': 8, 'dia': 9, 'noite': 10}"
      ]
    },
    {
      "cell_type": "markdown",
      "source": [
        "**Build Vocabulary**"
      ],
      "metadata": {
        "id": "tzrM3NXTZ-n9"
      }
    },
    {
      "cell_type": "code",
      "source": [
        "english_sentences = [\n",
        "    [3],  # Hello\n",
        "    [4, 5, 6, 7],  # How are you?\n",
        "    [8, 6],  # Thank you\n",
        "    [9, 10],  # Good morning\n",
        "    [9, 11]  # Good night\n",
        "]\n",
        "portuguese_sentences = [\n",
        "    [3],  # Ola\n",
        "    [4, 5, 6],  # Como esta?\n",
        "    [7],  # Obrigado\n",
        "    [8, 9],  # bom dia\n",
        "    [8, 10]  # bom noite\n",
        "]"
      ],
      "metadata": {
        "id": "QPh6HDEjZ_vT"
      },
      "execution_count": 9,
      "outputs": []
    },
    {
      "cell_type": "markdown",
      "source": [
        "**Convert Tokens to Indices**"
      ],
      "metadata": {
        "id": "y0Wr_gDOaF7s"
      }
    },
    {
      "cell_type": "code",
      "source": [
        "src_data = [\n",
        "    [0, 3, 1],  # <sos> Hello <eos>\n",
        "    [0, 4, 5, 6, 7, 1],  # <sos> How are you? <eos>\n",
        "    [0, 8, 6, 1],  # <sos> Thank you <eos>\n",
        "    [0, 9, 10, 1],  # <sos> Good morning <eos>\n",
        "    [0, 9, 11, 1]  # <sos> Good night <eos>\n",
        "]\n",
        "tgt_data = [\n",
        "    [0, 3, 1],  # <sos> Ola <eos>\n",
        "    [0, 4, 5, 6, 1],  # <sos> Como esta? <eos>\n",
        "    [0, 7, 1],  # <sos> Obrigado <eos>\n",
        "    [0, 8, 9, 1],  # <sos> bom dia <eos>\n",
        "    [0, 8, 10, 1]  # <sos> bom noite <eos>\n",
        "]\n",
        "\n",
        "# Convert lists to tensors\n",
        "src_tensors = [torch.tensor(sentence) for sentence in src_data]\n",
        "tgt_tensors = [torch.tensor(sentence) for sentence in tgt_data]"
      ],
      "metadata": {
        "id": "rCiilgkwaGai"
      },
      "execution_count": 10,
      "outputs": []
    },
    {
      "cell_type": "markdown",
      "source": [
        "**Transfer Model**"
      ],
      "metadata": {
        "id": "oxFqbl34aSn9"
      }
    },
    {
      "cell_type": "code",
      "source": [
        "class SimpleTransformer(nn.Module):\n",
        "    def __init__(self, src_vocab_size, tgt_vocab_size, d_model=256, nhead=8, num_encoder_layers=3, num_decoder_layers=3, dim_feedforward=512):\n",
        "        # d_model is a parameter that specifies the dimensionality of the input and output vectors of the Transformer model.\n",
        "        #   Each word in the input sequences is represented as a d_model-dimensional vector.\n",
        "        # nhead is a parameter that specifies the number of heads in the multi-head attention mechanism.\n",
        "        # num_encoder_layers and num_decoder_layers are parameters that specify the number of encoder and decoder layers in the Transformer model.\n",
        "        # dim_feedforward is a parameter that specifies the dimensionality of the hidden layer (number of units) within the feedforward network.\n",
        "\n",
        "        super(SimpleTransformer, self).__init__()\n",
        "        self.encoder_embedding = nn.Embedding(src_vocab_size, d_model)\n",
        "        self.decoder_embedding = nn.Embedding(tgt_vocab_size, d_model)\n",
        "        # Define the Transformer model with specified parameters\n",
        "        self.transformer = nn.Transformer(d_model, nhead, num_encoder_layers, num_decoder_layers, dim_feedforward)\n",
        "        # Define the final fully connected layer that maps the output of the transformer to the target vocab size, 12 here\n",
        "        self.fc_out = nn.Linear(d_model, tgt_vocab_size)\n",
        "        # Store the source vocabulary size and the target vocabulary size for reference, the model dimension for scaling embeddings\n",
        "        self.src_vocab_size = src_vocab_size\n",
        "        self.tgt_vocab_size = tgt_vocab_size\n",
        "        self.d_model = d_model\n",
        "\n",
        "    def forward(self, src, tgt):\n",
        "        # Apply the embedding layer to the source input and scale it by the square root of d_model\n",
        "        src = self.encoder_embedding(src) / (self.d_model ** 0.5)\n",
        "        # Apply the embedding layer to the target input and scale it by the square root of d_model\n",
        "        tgt = self.decoder_embedding(tgt) / (self.d_model ** 0.5)\n",
        "        # Ppermute the source embedding for the transformer (required shape: sequence length, batch size, embedding dimension)\n",
        "        # If src has dimensions (10, 32, 256): indices(0, 1, 2), after executing src = src.permute(1, 0, 2), src will have dimensions (32, 10, 256).\n",
        "        src = src.permute(1, 0, 2)\n",
        "        # Ppermute the target embedding for the transformer (required shape: sequence length, batch size, embedding dimension)\n",
        "        tgt = tgt.permute(1, 0, 2)\n",
        "        # Pass the source embeddings through the encoder part of the transformer, store the output in a variable for reference\n",
        "        memory = self.transformer.encoder(src)\n",
        "        # Pass the target embeddings and encoder output through the decoder part of the transformer\n",
        "        output = self.transformer.decoder(tgt, memory)\n",
        "        # Apply the final fully connected layer to map transformer output to target vocabulary size\n",
        "        output = self.fc_out(output)\n",
        "        # Ppermute the output back to (batch size, sequence length, vocab size)\n",
        "        return output.permute(1, 0, 2)\n",
        "\n",
        "    # Generation of a translation or output sequence based on a given source sequence (src)\n",
        "    def generate(self, src, max_len=10):\n",
        "        # Apply the embedding layer to the source input and scale it by the square root of d_model\n",
        "        src = self.encoder_embedding(src) / (self.d_model ** 0.5)\n",
        "        # Ppermute the source embedding for the transformer (required shape: sequence length, batch size, embedding dimension)\n",
        "        src = src.permute(1, 0, 2)\n",
        "        # Pass the source embeddings through the encoder part of the transformer\n",
        "        memory = self.transformer.encoder(src)\n",
        "        # Initialize the target sequence with the start-of-sequence token <sos> (assumed to be 0)\n",
        "        tgt = torch.tensor([[0]])\n",
        "        # List to store generated token indices\n",
        "        generated_indices = []\n",
        "        for _ in range(max_len):\n",
        "            # Apply the embedding layer to the current target sequence and scale it by the square root of d_model\n",
        "            tgt_emb = self.decoder_embedding(tgt) / (self.d_model ** 0.5)\n",
        "            # Permute the target embedding for the transformer (required shape: sequence length, batch size, embedding dimension)\n",
        "            tgt_emb = tgt_emb.permute(1, 0, 2)\n",
        "            # Pass the target embeddings and encoder output through the decoder part of the transformer\n",
        "            output = self.transformer.decoder(tgt_emb, memory)\n",
        "            # Apply the final fully connected layer to map transformer output to target vocabulary size\n",
        "            output = self.fc_out(output)\n",
        "            # Get the index of the next token by finding the argmax of the output. unsqueeze(0): reshapes the tensor by adding a new dimension at position 0.\n",
        "            next_token = output.argmax(2)[-1, :].unsqueeze(0)\n",
        "            # Append the generated token index to the list\n",
        "            generated_indices.append(next_token.item())\n",
        "            # Concatenate the next token to the current target sequence\n",
        "            tgt = torch.cat((tgt, next_token), dim=1)\n",
        "            # Stop if the end-of-sequence token <eos> (assumed to be 1) is generated\n",
        "            if next_token.item() == 1:\n",
        "                break\n",
        "        # Return the list of generated token indices\n",
        "        return generated_indices"
      ],
      "metadata": {
        "id": "JLT1WUAJaTCg"
      },
      "execution_count": 11,
      "outputs": []
    },
    {
      "cell_type": "markdown",
      "source": [
        "**Training**"
      ],
      "metadata": {
        "id": "1SWYlUiAbC6L"
      }
    },
    {
      "cell_type": "code",
      "source": [
        "# Define the vocabulary sizes and initialize the model\n",
        "src_vocab_size = len(english_vocab)\n",
        "tgt_vocab_size = len(portuguese_vocab)\n",
        "model = SimpleTransformer(src_vocab_size, tgt_vocab_size)\n",
        "\n",
        "criterion = nn.CrossEntropyLoss(ignore_index=2)  # Ignore <pad> token == 2  in loss\n",
        "optimizer = torch.optim.Adam(model.parameters(), lr=0.001)\n",
        "\n",
        "# Convert sentences to tensors and pad sequences to the same length\n",
        "def pad_sequences(sequences, max_len, pad_value=2): # <pad> token == 2\n",
        "    return [torch.cat([seq, torch.full((max_len - len(seq),), pad_value)]) for seq in sequences]\n",
        "\n",
        "max_len = max(max(len(s) for s in src_tensors), max(len(s) for s in tgt_tensors))\n",
        "src_tensors = pad_sequences(src_tensors, max_len)\n",
        "tgt_tensors = pad_sequences(tgt_tensors, max_len)\n",
        "\n",
        "# torch.stack concatenates (combines) multiple tensors into a single tensor.\n",
        "src_tensor = torch.stack(src_tensors)\n",
        "tgt_tensor = torch.stack(tgt_tensors)\n",
        "\n",
        "# Train model\n",
        "for epoch in range(200):  # Train for 200 epochs\n",
        "    # Set the model to training mode\n",
        "    model.train()\n",
        "    optimizer.zero_grad()\n",
        "\n",
        "    # Forward pass. Target sequence [:, :-1] is slicing the tgt_tensor to include all rows (:) and all columns except the last one (:-1).\n",
        "    # It removes the last token (which is often <eos>) to create the input for the decoder that includes all tokens up to, but not including, the final token.\n",
        "    output = model(src_tensor, tgt_tensor[:, :-1])\n",
        "\n",
        "    # Compute loss. Shapes: [batch size, sequence length, embedding dimension]. Reshapes the tensor to have a shape of (batch size * sequence length, embedding dimension).\n",
        "    # This flattening is done to match the required input shape for the loss function, which expects a 2D tensor where each row corresponds to a token prediction.\n",
        "    loss = criterion(output.reshape(-1, tgt_vocab_size), tgt_tensor[:, 1:].reshape(-1))\n",
        "\n",
        "    # Backward pass and optimization\n",
        "    loss.backward()\n",
        "    optimizer.step()\n",
        "\n",
        "    if epoch % 10 == 0:\n",
        "        print(f'Epoch {epoch}, Loss: {loss.item()}')\n"
      ],
      "metadata": {
        "colab": {
          "base_uri": "https://localhost:8080/"
        },
        "id": "uI084rcjbgpK",
        "outputId": "001dc9e4-324c-4086-c494-639c63a88f1b"
      },
      "execution_count": 27,
      "outputs": [
        {
          "output_type": "stream",
          "name": "stdout",
          "text": [
            "Epoch 0, Loss: 2.462172746658325\n",
            "Epoch 10, Loss: 0.8762478828430176\n",
            "Epoch 20, Loss: 0.05221805348992348\n",
            "Epoch 30, Loss: 0.014924539253115654\n",
            "Epoch 40, Loss: 0.005738255102187395\n",
            "Epoch 50, Loss: 0.004030696116387844\n",
            "Epoch 60, Loss: 0.002821733709424734\n",
            "Epoch 70, Loss: 0.002170687075704336\n",
            "Epoch 80, Loss: 0.0019442916382104158\n",
            "Epoch 90, Loss: 0.0016539767384529114\n",
            "Epoch 100, Loss: 0.0015951860696077347\n",
            "Epoch 110, Loss: 0.001571864471770823\n",
            "Epoch 120, Loss: 0.0014183578314259648\n",
            "Epoch 130, Loss: 0.0013564411783590913\n",
            "Epoch 140, Loss: 0.0012715071206912398\n",
            "Epoch 150, Loss: 0.0012826604070141912\n",
            "Epoch 160, Loss: 0.001058325869962573\n",
            "Epoch 170, Loss: 0.0010998089564964175\n",
            "Epoch 180, Loss: 0.0010297000408172607\n",
            "Epoch 190, Loss: 0.0009575058938935399\n"
          ]
        }
      ]
    },
    {
      "cell_type": "markdown",
      "source": [
        "**Evaluation**"
      ],
      "metadata": {
        "id": "dZYmACg1aXcG"
      }
    },
    {
      "cell_type": "code",
      "source": [
        "# Set the model to evaluation mode\n",
        "model.eval()\n",
        "# Example source sentence represented by token indices\n",
        "src_sentence = [0, 8, 6, 1]  # <sos> Thank you <eos>\n",
        "# Convert the source sentence to a tensor and add a batch dimension\n",
        "src_tensor = torch.tensor(src_sentence).unsqueeze(0)\n",
        "# Generate the translation by passing the source tensor to the model's generate method\n",
        "generated_indices = model.generate(src_tensor)\n",
        "# Convert the generated token indices to the corresponding words using the Portuguese vocabulary\n",
        "translated_sentence = [list(portuguese_vocab.keys())[i] for i in generated_indices]\n",
        "# Print the translated sentence by joining the words with spaces\n",
        "print(' '.join(translated_sentence))"
      ],
      "metadata": {
        "colab": {
          "base_uri": "https://localhost:8080/"
        },
        "id": "cuhETHSzaX28",
        "outputId": "916f0e4d-ce64-4a6c-d926-035a06679b73"
      },
      "execution_count": 28,
      "outputs": [
        {
          "output_type": "stream",
          "name": "stdout",
          "text": [
            "Obrigado <eos>\n"
          ]
        }
      ]
    },
    {
      "cell_type": "markdown",
      "source": [
        "**Hands-on activities in the class**\n",
        "\n",
        "Increase the vocabulary size and dataset size.\n",
        "\n",
        "Create a mini-dictionary focused on a specific domain (e.g., renting rooms, classroom objects)\n",
        "\n",
        "Modify hyperparameters to improve translation accuracy.\n",
        "\n",
        "Translate greetings from English to the target language, rather than just Portuguese."
      ],
      "metadata": {
        "id": "DoOT3EOnDroO"
      }
    }
  ]
}