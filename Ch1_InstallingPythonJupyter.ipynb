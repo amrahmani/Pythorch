{
  "nbformat": 4,
  "nbformat_minor": 0,
  "metadata": {
    "colab": {
      "provenance": [],
      "authorship_tag": "ABX9TyPH8e1uHKUP5bHVQPQ8nInV",
      "include_colab_link": true
    },
    "kernelspec": {
      "name": "python3",
      "display_name": "Python 3"
    },
    "language_info": {
      "name": "python"
    }
  },
  "cells": [
    {
      "cell_type": "markdown",
      "metadata": {
        "id": "view-in-github",
        "colab_type": "text"
      },
      "source": [
        "<a href=\"https://colab.research.google.com/github/amrahmani/Pythorch/blob/main/InstallingPythonJupyter.ipynb\" target=\"_parent\"><img src=\"https://colab.research.google.com/assets/colab-badge.svg\" alt=\"Open In Colab\"/></a>"
      ]
    },
    {
      "cell_type": "markdown",
      "source": [
        "**Installing Python using the official installer (Windows)**\n",
        "\n",
        "1.   Download the installer:Visit the official Python downloads page and choose the latest stable version under \"Windows x86-64 installers\".\n",
        "\n",
        "2.   Run the installer: Double-click the downloaded installer file.\n",
        "\n",
        "3.   Add Python to PATH (Optional but recommended): During installation, make sure to check the box that says \"Add Python 3.x to PATH\". This will allow you to run Python commands from any directory in your command prompt."
      ],
      "metadata": {
        "id": "RJ0WOgUzI9DN"
      }
    },
    {
      "cell_type": "markdown",
      "source": [
        "**Installing Jupyter Notebook**\n",
        "\n",
        "1. Once you have Python installed, you can install Jupyter Notebook using the following command in your command prompt:\n",
        "\n",
        "`pip install jupyter`\n",
        "\n",
        "2. Verify Jupyter Notebook installation:\n",
        "\n",
        "Open a command prompt or terminal and type:\n",
        "\n",
        "`jupyter notebook`\n",
        "\n",
        "If everything is installed correctly, your web browser should automatically open a new tab at http://localhost:8888 displaying the Jupyter Notebook interface."
      ],
      "metadata": {
        "id": "vP42bB43KCb2"
      }
    },
    {
      "cell_type": "code",
      "execution_count": null,
      "metadata": {
        "id": "jIbZKPWWI6Us"
      },
      "outputs": [],
      "source": []
    }
  ]
}
