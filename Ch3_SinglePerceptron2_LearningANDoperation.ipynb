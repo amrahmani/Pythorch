{
  "nbformat": 4,
  "nbformat_minor": 0,
  "metadata": {
    "colab": {
      "provenance": [],
      "authorship_tag": "ABX9TyP+I6t5uKkmw6aoGBzQ/IFr",
      "include_colab_link": true
    },
    "kernelspec": {
      "name": "python3",
      "display_name": "Python 3"
    },
    "language_info": {
      "name": "python"
    }
  },
  "cells": [
    {
      "cell_type": "markdown",
      "metadata": {
        "id": "view-in-github",
        "colab_type": "text"
      },
      "source": [
        "<a href=\"https://colab.research.google.com/github/amrahmani/NN/blob/main/SinglePerceptron_Learning2.ipynb\" target=\"_parent\"><img src=\"https://colab.research.google.com/assets/colab-badge.svg\" alt=\"Open In Colab\"/></a>"
      ]
    },
    {
      "cell_type": "markdown",
      "source": [
        "*create a single-neuron perceptron with a bias using PyTorch. The perceptron will utilize the sign activation function and train based on the delta rule with the formula: 𝑊_𝑛𝑒𝜔 = 𝑊_𝑜𝑙𝑑 + 𝛼(𝑦 - 𝑦_hat) 𝑋. Here, 'y' represents the desired output and 'y_hat' represents the predicted output. The goal is to train the network for the Boolean AND operation.\\*"
      ],
      "metadata": {
        "id": "7x3kDI5KdMBA"
      }
    },
    {
      "cell_type": "code",
      "execution_count": 84,
      "metadata": {
        "colab": {
          "base_uri": "https://localhost:8080/"
        },
        "id": "Y8-KL_62Q5S3",
        "outputId": "96f3ec0a-a62b-411d-f60d-41e9be0cd239"
      },
      "outputs": [
        {
          "output_type": "stream",
          "name": "stdout",
          "text": [
            "Trained weights:\n",
            "Parameter containing:\n",
            "tensor([[0.3910],\n",
            "        [0.3685]], requires_grad=True)\n",
            "Trained bias:\n",
            "Parameter containing:\n",
            "tensor([-0.4470], requires_grad=True)\n",
            "Predictions:\n",
            "tensor([[-1.],\n",
            "        [-1.],\n",
            "        [-1.],\n",
            "        [ 1.]], grad_fn=<SignBackward0>)\n"
          ]
        }
      ],
      "source": [
        "import torch\n",
        "\n",
        "class SingleNeuron(torch.nn.Module):\n",
        "    def __init__(self):\n",
        "        super(SingleNeuron, self).__init__()\n",
        "        # Define weights and bias\n",
        "        self.W = torch.nn.Parameter(torch.randn(2, 1))\n",
        "        self.b = torch.nn.Parameter(torch.randn(1))\n",
        "\n",
        "    def forward(self, x):\n",
        "        # Forward pass\n",
        "        y_hat = torch.sign(torch.matmul(x, self.W) + self.b)\n",
        "        return y_hat\n",
        "\n",
        "# Define input data (Boolean AND)\n",
        "X = torch.tensor([[0., 0.], [0., 1.], [1., 0.], [1., 1.]])\n",
        "y = torch.tensor([[-1.], [-1.], [-1.], [1.]])\n",
        "\n",
        "# Initialize model\n",
        "model = SingleNeuron()\n",
        "\n",
        "# Learning rate\n",
        "alpha = 0.1\n",
        "\n",
        "# Number of epochs\n",
        "epochs = 100\n",
        "\n",
        "# Training loop\n",
        "for epoch in range(epochs):\n",
        "    # Forward pass\n",
        "    y_hat = model(X)\n",
        "\n",
        "    # Compute loss\n",
        "    loss = torch.mean(torch.abs(y - y_hat))\n",
        "\n",
        "    # Update weights and bias manually\n",
        "    with torch.no_grad():\n",
        "        model.W.data = model.W.data + alpha * torch.matmul(X.t(), (y - y_hat))\n",
        "        model.b.data = model.b.data + alpha * torch.sum(y - y_hat)\n",
        "\n",
        "# Test the trained model\n",
        "print(\"Trained weights:\")\n",
        "print(model.W)\n",
        "print(\"Trained bias:\")\n",
        "print(model.b)\n",
        "print(\"Predictions:\")\n",
        "print(torch.sign(model(X)))\n"
      ]
    }
  ]
}
