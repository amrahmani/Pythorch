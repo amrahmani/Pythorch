{
  "nbformat": 4,
  "nbformat_minor": 0,
  "metadata": {
    "colab": {
      "provenance": [],
      "authorship_tag": "ABX9TyPgldELVLVwLc9OK+pTVe1t",
      "include_colab_link": true
    },
    "kernelspec": {
      "name": "python3",
      "display_name": "Python 3"
    },
    "language_info": {
      "name": "python"
    }
  },
  "cells": [
    {
      "cell_type": "markdown",
      "metadata": {
        "id": "view-in-github",
        "colab_type": "text"
      },
      "source": [
        "<a href=\"https://colab.research.google.com/github/amrahmani/Pythorch/blob/main/InstallingPythonJupyter.ipynb\" target=\"_parent\"><img src=\"https://colab.research.google.com/assets/colab-badge.svg\" alt=\"Open In Colab\"/></a>"
      ]
    },
    {
      "cell_type": "markdown",
      "source": [
        "**Installing Python using the official installer (Windows)**\n",
        "\n",
        "1.   Download the installer:Visit the official Python downloads page and choose the latest stable version under \"Windows x86-64 installers\".\n",
        "\n",
        "2.   Run the installer: Double-click the downloaded installer file.\n",
        "\n",
        "3.   Add Python to PATH (Optional but recommended): During installation, make sure to check the box that says \"Add Python 3.x to PATH\". This will allow you to run Python commands from any directory in your command prompt."
      ],
      "metadata": {
        "id": "RJ0WOgUzI9DN"
      }
    },
    {
      "cell_type": "code",
      "execution_count": null,
      "metadata": {
        "id": "jIbZKPWWI6Us"
      },
      "outputs": [],
      "source": []
    }
  ]
}